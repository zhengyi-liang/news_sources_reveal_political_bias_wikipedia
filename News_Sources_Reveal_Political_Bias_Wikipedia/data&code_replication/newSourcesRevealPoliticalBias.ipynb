{
 "cells": [
  {
   "cell_type": "code",
   "execution_count": 2,
   "id": "30fe8578",
   "metadata": {
    "ExecuteTime": {
     "end_time": "2023-12-27T20:26:39.629080Z",
     "start_time": "2023-12-27T20:26:36.921280Z"
    }
   },
   "outputs": [
    {
     "name": "stdout",
     "output_type": "stream",
     "text": [
      "Intel MKL WARNING: Support of Intel(R) Streaming SIMD Extensions 4.2 (Intel(R) SSE4.2) enabled only processors has been deprecated. Intel oneAPI Math Kernel Library 2025.0 will require Intel(R) Advanced Vector Extensions (Intel(R) AVX) instructions.\n",
      "Intel MKL WARNING: Support of Intel(R) Streaming SIMD Extensions 4.2 (Intel(R) SSE4.2) enabled only processors has been deprecated. Intel oneAPI Math Kernel Library 2025.0 will require Intel(R) Advanced Vector Extensions (Intel(R) AVX) instructions.\n"
     ]
    }
   ],
   "source": [
    "import glob\n",
    "import requests\n",
    "from lxml import etree\n",
    "import re\n",
    "import pandas as pd\n",
    "from collections import Counter\n",
    "import matplotlib.pyplot as plt\n",
    "%matplotlib inline\n",
    "import numpy as np\n",
    "import json\n",
    "import copy\n",
    "import sys\n",
    "import seaborn as sns\n",
    "import math\n",
    "import scipy.stats as stats\n",
    "import statistics as ss\n",
    "import time\n",
    "import seaborn as sns\n",
    "import statsmodels.formula.api as smf\n",
    "from collections import defaultdict\n",
    "\n",
    "from bs4 import BeautifulSoup"
   ]
  },
  {
   "attachments": {},
   "cell_type": "markdown",
   "id": "219a57a3",
   "metadata": {},
   "source": [
    "## caculate the percentage of news sources in references on the pages"
   ]
  },
  {
   "cell_type": "code",
   "execution_count": 61,
   "id": "aa45c992",
   "metadata": {
    "ExecuteTime": {
     "end_time": "2023-12-26T20:23:17.253169Z",
     "start_time": "2023-12-26T20:23:17.049862Z"
    }
   },
   "outputs": [],
   "source": [
    "df2 = pd.read_csv('.../referNewsWeb_updated.csv')"
   ]
  },
  {
   "cell_type": "code",
   "execution_count": 62,
   "id": "3789238f",
   "metadata": {
    "ExecuteTime": {
     "end_time": "2023-12-26T20:23:21.246819Z",
     "start_time": "2023-12-26T20:23:21.236565Z"
    }
   },
   "outputs": [
    {
     "data": {
      "text/plain": [
       "51705"
      ]
     },
     "execution_count": 62,
     "metadata": {},
     "output_type": "execute_result"
    }
   ],
   "source": [
    "len(df2)"
   ]
  },
  {
   "cell_type": "code",
   "execution_count": 67,
   "id": "482656ec",
   "metadata": {
    "ExecuteTime": {
     "end_time": "2023-12-26T20:25:29.252596Z",
     "start_time": "2023-12-26T20:25:29.243113Z"
    }
   },
   "outputs": [],
   "source": [
    "#df2.head()"
   ]
  },
  {
   "cell_type": "code",
   "execution_count": 64,
   "id": "11f37265",
   "metadata": {
    "ExecuteTime": {
     "end_time": "2023-12-26T20:24:19.821717Z",
     "start_time": "2023-12-26T20:24:19.792887Z"
    }
   },
   "outputs": [],
   "source": [
    "dfScores = pd.read_csv('.../bias_scores.csv')"
   ]
  },
  {
   "cell_type": "code",
   "execution_count": 65,
   "id": "cd060d1d",
   "metadata": {
    "ExecuteTime": {
     "end_time": "2023-12-26T20:24:20.253888Z",
     "start_time": "2023-12-26T20:24:20.240049Z"
    }
   },
   "outputs": [
    {
     "data": {
      "text/plain": [
       "19022"
      ]
     },
     "execution_count": 65,
     "metadata": {},
     "output_type": "execute_result"
    }
   ],
   "source": [
    "#  media outlets that have a ideological score \n",
    "len(dfScores)"
   ]
  },
  {
   "cell_type": "code",
   "execution_count": 68,
   "id": "cea12ca4",
   "metadata": {
    "ExecuteTime": {
     "end_time": "2023-12-26T20:25:50.408458Z",
     "start_time": "2023-12-26T20:25:50.380842Z"
    }
   },
   "outputs": [],
   "source": [
    "# get the the number of references from sources with known ideologcial leanings \n",
    "dfNews = df2[df2['urlSourceUpdated'].isin(dfScores['domain'])]"
   ]
  },
  {
   "cell_type": "code",
   "execution_count": 70,
   "id": "6055329e",
   "metadata": {
    "ExecuteTime": {
     "end_time": "2023-12-26T20:26:22.673777Z",
     "start_time": "2023-12-26T20:26:22.661325Z"
    }
   },
   "outputs": [
    {
     "data": {
      "text/plain": [
       "43613"
      ]
     },
     "execution_count": 70,
     "metadata": {},
     "output_type": "execute_result"
    }
   ],
   "source": [
    "len(dfNews)"
   ]
  },
  {
   "cell_type": "code",
   "execution_count": 71,
   "id": "316c4937",
   "metadata": {
    "ExecuteTime": {
     "end_time": "2023-12-26T20:27:41.706159Z",
     "start_time": "2023-12-26T20:27:41.692986Z"
    }
   },
   "outputs": [
    {
     "data": {
      "text/plain": [
       "0.7167178846691098"
      ]
     },
     "execution_count": 71,
     "metadata": {},
     "output_type": "execute_result"
    }
   ],
   "source": [
    "# news sources take up 71.67% of all citations \n",
    "43613 / 60851"
   ]
  },
  {
   "cell_type": "markdown",
   "id": "5818c7cc",
   "metadata": {},
   "source": [
    "### create a file for source count"
   ]
  },
  {
   "cell_type": "code",
   "execution_count": 72,
   "id": "598ff695",
   "metadata": {
    "ExecuteTime": {
     "end_time": "2023-12-26T20:33:37.101705Z",
     "start_time": "2023-12-26T20:33:37.072019Z"
    }
   },
   "outputs": [],
   "source": [
    "# get the sites that are not missing\n",
    "sites = list(df2[df2['urlSourceUpdated'] != 'notFound']['urlSourceUpdated'])"
   ]
  },
  {
   "cell_type": "code",
   "execution_count": 76,
   "id": "3d68fe0f",
   "metadata": {
    "ExecuteTime": {
     "end_time": "2023-12-26T20:34:58.436387Z",
     "start_time": "2023-12-26T20:34:58.422371Z"
    }
   },
   "outputs": [],
   "source": [
    "sourceCount = Counter(sites).most_common()"
   ]
  },
  {
   "cell_type": "code",
   "execution_count": 77,
   "id": "899757fd",
   "metadata": {
    "ExecuteTime": {
     "end_time": "2023-12-26T20:35:05.387246Z",
     "start_time": "2023-12-26T20:35:05.376616Z"
    }
   },
   "outputs": [
    {
     "data": {
      "text/plain": [
       "[('house.gov', 3454),\n",
       " ('nytimes.com', 3075),\n",
       " ('washingtonpost.com', 2236),\n",
       " ('thehill.com', 2034),\n",
       " ('politico.com', 1741)]"
      ]
     },
     "execution_count": 77,
     "metadata": {},
     "output_type": "execute_result"
    }
   ],
   "source": [
    "sourceCount[:5]"
   ]
  },
  {
   "cell_type": "code",
   "execution_count": 78,
   "id": "0bbd3202",
   "metadata": {
    "ExecuteTime": {
     "end_time": "2023-12-26T20:35:11.209955Z",
     "start_time": "2023-12-26T20:35:11.198023Z"
    }
   },
   "outputs": [
    {
     "data": {
      "text/plain": [
       "2572"
      ]
     },
     "execution_count": 78,
     "metadata": {},
     "output_type": "execute_result"
    }
   ],
   "source": [
    "len(sourceCount)"
   ]
  },
  {
   "cell_type": "code",
   "execution_count": 79,
   "id": "36cad1ba",
   "metadata": {
    "ExecuteTime": {
     "end_time": "2023-12-26T21:42:27.032652Z",
     "start_time": "2023-12-26T21:42:27.020842Z"
    },
    "run_control": {
     "marked": false
    }
   },
   "outputs": [],
   "source": [
    "source = [i[0] for i in sourceCount]"
   ]
  },
  {
   "cell_type": "code",
   "execution_count": 80,
   "id": "85749601",
   "metadata": {
    "ExecuteTime": {
     "end_time": "2023-12-26T21:42:28.248351Z",
     "start_time": "2023-12-26T21:42:28.238031Z"
    },
    "run_control": {
     "marked": false
    }
   },
   "outputs": [],
   "source": [
    "count = [i[1] for i in sourceCount]"
   ]
  },
  {
   "cell_type": "code",
   "execution_count": 81,
   "id": "0ac427ce",
   "metadata": {
    "ExecuteTime": {
     "end_time": "2023-12-26T21:42:28.875281Z",
     "start_time": "2023-12-26T21:42:28.866544Z"
    },
    "run_control": {
     "marked": false
    }
   },
   "outputs": [],
   "source": [
    "sourceDict = {'source': source, 'count': count}"
   ]
  },
  {
   "cell_type": "code",
   "execution_count": 83,
   "id": "267b1370",
   "metadata": {
    "ExecuteTime": {
     "end_time": "2023-12-26T21:43:24.453654Z",
     "start_time": "2023-12-26T21:43:24.442119Z"
    }
   },
   "outputs": [],
   "source": [
    "dfCount = pd.DataFrame(sourceDict)"
   ]
  },
  {
   "cell_type": "code",
   "execution_count": 84,
   "id": "56d6cb9f",
   "metadata": {
    "ExecuteTime": {
     "end_time": "2023-12-26T21:43:26.662124Z",
     "start_time": "2023-12-26T21:43:26.648396Z"
    },
    "run_control": {
     "marked": false
    }
   },
   "outputs": [],
   "source": [
    "# count/sum\n",
    "decimal = []\n",
    "allCount = sum(list(dfCount['count']))\n",
    "for i in list(dfCount['count']):\n",
    "    quotient = round(i/allCount, 4) # len(source1) is 9304\n",
    "    decimal.append(quotient)"
   ]
  },
  {
   "cell_type": "code",
   "execution_count": 85,
   "id": "eb63a5b9",
   "metadata": {
    "ExecuteTime": {
     "end_time": "2023-12-26T21:43:27.224173Z",
     "start_time": "2023-12-26T21:43:27.214001Z"
    },
    "run_control": {
     "marked": false
    }
   },
   "outputs": [],
   "source": [
    "# creat a new column\n",
    "dfCount['count/sum'] = decimal"
   ]
  },
  {
   "cell_type": "code",
   "execution_count": 86,
   "id": "71a09c20",
   "metadata": {
    "ExecuteTime": {
     "end_time": "2023-12-26T21:43:28.351560Z",
     "start_time": "2023-12-26T21:43:28.340253Z"
    },
    "run_control": {
     "marked": false
    }
   },
   "outputs": [],
   "source": [
    "percent = []\n",
    "for i in decimal:\n",
    "    per = \"{:.2%}\".format(i) # save the number with two decimal places\n",
    "    percent.append(per)"
   ]
  },
  {
   "cell_type": "code",
   "execution_count": 87,
   "id": "a04b3073",
   "metadata": {
    "ExecuteTime": {
     "end_time": "2023-12-26T21:43:28.933967Z",
     "start_time": "2023-12-26T21:43:28.924030Z"
    },
    "run_control": {
     "marked": false
    }
   },
   "outputs": [],
   "source": [
    "dfCount['percent'] = percent"
   ]
  },
  {
   "cell_type": "code",
   "execution_count": 88,
   "id": "b8434bdb",
   "metadata": {
    "ExecuteTime": {
     "end_time": "2023-12-26T21:43:29.765659Z",
     "start_time": "2023-12-26T21:43:29.748954Z"
    },
    "run_control": {
     "marked": false
    }
   },
   "outputs": [
    {
     "data": {
      "text/html": [
       "<div>\n",
       "<style scoped>\n",
       "    .dataframe tbody tr th:only-of-type {\n",
       "        vertical-align: middle;\n",
       "    }\n",
       "\n",
       "    .dataframe tbody tr th {\n",
       "        vertical-align: top;\n",
       "    }\n",
       "\n",
       "    .dataframe thead th {\n",
       "        text-align: right;\n",
       "    }\n",
       "</style>\n",
       "<table border=\"1\" class=\"dataframe\">\n",
       "  <thead>\n",
       "    <tr style=\"text-align: right;\">\n",
       "      <th></th>\n",
       "      <th>source</th>\n",
       "      <th>count</th>\n",
       "      <th>count/sum</th>\n",
       "      <th>percent</th>\n",
       "    </tr>\n",
       "  </thead>\n",
       "  <tbody>\n",
       "    <tr>\n",
       "      <th>0</th>\n",
       "      <td>house.gov</td>\n",
       "      <td>3454</td>\n",
       "      <td>0.0675</td>\n",
       "      <td>6.75%</td>\n",
       "    </tr>\n",
       "    <tr>\n",
       "      <th>1</th>\n",
       "      <td>nytimes.com</td>\n",
       "      <td>3075</td>\n",
       "      <td>0.0601</td>\n",
       "      <td>6.01%</td>\n",
       "    </tr>\n",
       "    <tr>\n",
       "      <th>2</th>\n",
       "      <td>washingtonpost.com</td>\n",
       "      <td>2236</td>\n",
       "      <td>0.0437</td>\n",
       "      <td>4.37%</td>\n",
       "    </tr>\n",
       "    <tr>\n",
       "      <th>3</th>\n",
       "      <td>thehill.com</td>\n",
       "      <td>2034</td>\n",
       "      <td>0.0398</td>\n",
       "      <td>3.98%</td>\n",
       "    </tr>\n",
       "    <tr>\n",
       "      <th>4</th>\n",
       "      <td>politico.com</td>\n",
       "      <td>1741</td>\n",
       "      <td>0.0340</td>\n",
       "      <td>3.40%</td>\n",
       "    </tr>\n",
       "  </tbody>\n",
       "</table>\n",
       "</div>"
      ],
      "text/plain": [
       "               source  count  count/sum percent\n",
       "0           house.gov   3454     0.0675   6.75%\n",
       "1         nytimes.com   3075     0.0601   6.01%\n",
       "2  washingtonpost.com   2236     0.0437   4.37%\n",
       "3         thehill.com   2034     0.0398   3.98%\n",
       "4        politico.com   1741     0.0340   3.40%"
      ]
     },
     "execution_count": 88,
     "metadata": {},
     "output_type": "execute_result"
    }
   ],
   "source": [
    "dfCount.iloc[:5]"
   ]
  },
  {
   "cell_type": "markdown",
   "id": "feeed8d0",
   "metadata": {},
   "source": [
    "### identify news outlest with known political leanings"
   ]
  },
  {
   "cell_type": "code",
   "execution_count": 94,
   "id": "ebb2597b",
   "metadata": {
    "ExecuteTime": {
     "end_time": "2023-12-26T21:48:54.584285Z",
     "start_time": "2023-12-26T21:48:54.561402Z"
    },
    "run_control": {
     "marked": false
    }
   },
   "outputs": [],
   "source": [
    "# return 999 if the key does not exist \n",
    "def returnNull():\n",
    "    return(999)\n",
    "\n",
    "# Create a defaultdict\n",
    "mediaScore = defaultdict(returnNull)\n",
    "\n",
    "# Add keys and values to the defaultdict\n",
    "for k, v in zip(dfScores['domain'], dfScores['score']):\n",
    "    mediaScore[k] = v"
   ]
  },
  {
   "cell_type": "code",
   "execution_count": 95,
   "id": "546afb89",
   "metadata": {
    "ExecuteTime": {
     "end_time": "2023-12-26T21:49:06.083660Z",
     "start_time": "2023-12-26T21:49:06.068581Z"
    },
    "run_control": {
     "marked": false
    }
   },
   "outputs": [],
   "source": [
    "# get the bias scores based on domains\n",
    "scoreList = []\n",
    "for domain in dfCount['source']: \n",
    "    v = mediaScore[domain]\n",
    "    scoreList.append(v)"
   ]
  },
  {
   "cell_type": "code",
   "execution_count": 96,
   "id": "bd8e2bbd",
   "metadata": {
    "ExecuteTime": {
     "end_time": "2023-12-26T21:49:09.333751Z",
     "start_time": "2023-12-26T21:49:09.322366Z"
    },
    "run_control": {
     "marked": false
    }
   },
   "outputs": [],
   "source": [
    "dfCount['biaScore'] = scoreList"
   ]
  },
  {
   "cell_type": "code",
   "execution_count": 97,
   "id": "83e6b920",
   "metadata": {
    "ExecuteTime": {
     "end_time": "2023-12-26T21:49:12.861090Z",
     "start_time": "2023-12-26T21:49:12.845527Z"
    },
    "run_control": {
     "marked": false
    }
   },
   "outputs": [
    {
     "data": {
      "text/plain": [
       "1167"
      ]
     },
     "execution_count": 97,
     "metadata": {},
     "output_type": "execute_result"
    }
   ],
   "source": [
    "# 1167 media outlets have unidentified political leanings \n",
    "len(dfCount[dfCount['biaScore'] == 999])"
   ]
  },
  {
   "cell_type": "code",
   "execution_count": 98,
   "id": "12c7d3fd",
   "metadata": {
    "ExecuteTime": {
     "end_time": "2023-12-26T21:49:28.203413Z",
     "start_time": "2023-12-26T21:49:28.190724Z"
    },
    "run_control": {
     "marked": false
    }
   },
   "outputs": [],
   "source": [
    "dfCountValid = dfCount[dfCount['biaScore'] != 999]"
   ]
  },
  {
   "cell_type": "code",
   "execution_count": 99,
   "id": "12d6ee87",
   "metadata": {
    "ExecuteTime": {
     "end_time": "2023-12-26T21:49:28.837835Z",
     "start_time": "2023-12-26T21:49:28.820946Z"
    },
    "run_control": {
     "marked": false
    }
   },
   "outputs": [
    {
     "data": {
      "text/html": [
       "<div>\n",
       "<style scoped>\n",
       "    .dataframe tbody tr th:only-of-type {\n",
       "        vertical-align: middle;\n",
       "    }\n",
       "\n",
       "    .dataframe tbody tr th {\n",
       "        vertical-align: top;\n",
       "    }\n",
       "\n",
       "    .dataframe thead th {\n",
       "        text-align: right;\n",
       "    }\n",
       "</style>\n",
       "<table border=\"1\" class=\"dataframe\">\n",
       "  <thead>\n",
       "    <tr style=\"text-align: right;\">\n",
       "      <th></th>\n",
       "      <th>source</th>\n",
       "      <th>count</th>\n",
       "      <th>count/sum</th>\n",
       "      <th>percent</th>\n",
       "      <th>biaScore</th>\n",
       "    </tr>\n",
       "  </thead>\n",
       "  <tbody>\n",
       "    <tr>\n",
       "      <th>0</th>\n",
       "      <td>house.gov</td>\n",
       "      <td>3454</td>\n",
       "      <td>0.0675</td>\n",
       "      <td>6.75%</td>\n",
       "      <td>-0.4210</td>\n",
       "    </tr>\n",
       "    <tr>\n",
       "      <th>1</th>\n",
       "      <td>nytimes.com</td>\n",
       "      <td>3075</td>\n",
       "      <td>0.0601</td>\n",
       "      <td>6.01%</td>\n",
       "      <td>-0.2602</td>\n",
       "    </tr>\n",
       "    <tr>\n",
       "      <th>2</th>\n",
       "      <td>washingtonpost.com</td>\n",
       "      <td>2236</td>\n",
       "      <td>0.0437</td>\n",
       "      <td>4.37%</td>\n",
       "      <td>-0.2342</td>\n",
       "    </tr>\n",
       "    <tr>\n",
       "      <th>3</th>\n",
       "      <td>thehill.com</td>\n",
       "      <td>2034</td>\n",
       "      <td>0.0398</td>\n",
       "      <td>3.98%</td>\n",
       "      <td>-0.0600</td>\n",
       "    </tr>\n",
       "    <tr>\n",
       "      <th>4</th>\n",
       "      <td>politico.com</td>\n",
       "      <td>1741</td>\n",
       "      <td>0.0340</td>\n",
       "      <td>3.40%</td>\n",
       "      <td>-0.1914</td>\n",
       "    </tr>\n",
       "  </tbody>\n",
       "</table>\n",
       "</div>"
      ],
      "text/plain": [
       "               source  count  count/sum percent  biaScore\n",
       "0           house.gov   3454     0.0675   6.75%   -0.4210\n",
       "1         nytimes.com   3075     0.0601   6.01%   -0.2602\n",
       "2  washingtonpost.com   2236     0.0437   4.37%   -0.2342\n",
       "3         thehill.com   2034     0.0398   3.98%   -0.0600\n",
       "4        politico.com   1741     0.0340   3.40%   -0.1914"
      ]
     },
     "execution_count": 99,
     "metadata": {},
     "output_type": "execute_result"
    }
   ],
   "source": [
    "dfCountValid.iloc[:5]"
   ]
  },
  {
   "cell_type": "code",
   "execution_count": 101,
   "id": "04336aa9",
   "metadata": {
    "ExecuteTime": {
     "end_time": "2023-12-26T21:51:33.363400Z",
     "start_time": "2023-12-26T21:51:33.352606Z"
    },
    "run_control": {
     "marked": false
    }
   },
   "outputs": [],
   "source": [
    "dfNewSort = dfCountValid.sort_values('biaScore', ascending = True)"
   ]
  },
  {
   "cell_type": "code",
   "execution_count": 102,
   "id": "df7405ab",
   "metadata": {
    "ExecuteTime": {
     "end_time": "2023-12-26T21:51:34.080223Z",
     "start_time": "2023-12-26T21:51:34.071618Z"
    },
    "run_control": {
     "marked": false
    }
   },
   "outputs": [],
   "source": [
    "dfNewSort.reset_index(drop = True, inplace = True)"
   ]
  },
  {
   "cell_type": "code",
   "execution_count": 103,
   "id": "6c7648c8",
   "metadata": {
    "ExecuteTime": {
     "end_time": "2023-12-26T21:51:34.535941Z",
     "start_time": "2023-12-26T21:51:34.524067Z"
    },
    "run_control": {
     "marked": false
    }
   },
   "outputs": [
    {
     "data": {
      "text/plain": [
       "1405"
      ]
     },
     "execution_count": 103,
     "metadata": {},
     "output_type": "execute_result"
    }
   ],
   "source": [
    "len(dfNewSort)"
   ]
  },
  {
   "cell_type": "code",
   "execution_count": 107,
   "id": "8f604921",
   "metadata": {
    "ExecuteTime": {
     "end_time": "2023-12-26T21:52:17.947874Z",
     "start_time": "2023-12-26T21:52:17.933161Z"
    }
   },
   "outputs": [
    {
     "data": {
      "text/plain": [
       "681"
      ]
     },
     "execution_count": 107,
     "metadata": {},
     "output_type": "execute_result"
    }
   ],
   "source": [
    "# the number of conservative outlets\n",
    "len(dfNewSort[dfNewSort['biaScore'] > 0])"
   ]
  },
  {
   "cell_type": "code",
   "execution_count": 108,
   "id": "6547024d",
   "metadata": {
    "ExecuteTime": {
     "end_time": "2023-12-26T21:52:33.875725Z",
     "start_time": "2023-12-26T21:52:33.862211Z"
    }
   },
   "outputs": [
    {
     "data": {
      "text/plain": [
       "724"
      ]
     },
     "execution_count": 108,
     "metadata": {},
     "output_type": "execute_result"
    }
   ],
   "source": [
    "# the number of liberal outlets\n",
    "len(dfNewSort[dfNewSort['biaScore'] < 0])"
   ]
  },
  {
   "cell_type": "code",
   "execution_count": null,
   "id": "1f1d4047",
   "metadata": {},
   "outputs": [],
   "source": []
  },
  {
   "cell_type": "markdown",
   "id": "9f5506b1",
   "metadata": {},
   "source": [
    "### plot a scatter plot"
   ]
  },
  {
   "cell_type": "code",
   "execution_count": 112,
   "id": "fc54c419",
   "metadata": {
    "ExecuteTime": {
     "end_time": "2023-12-26T22:02:16.150113Z",
     "start_time": "2023-12-26T22:02:16.131802Z"
    }
   },
   "outputs": [],
   "source": [
    "df = pd.read_csv('.../categoryCountUpdated4.csv')"
   ]
  },
  {
   "cell_type": "code",
   "execution_count": 113,
   "id": "c79ff973",
   "metadata": {
    "ExecuteTime": {
     "end_time": "2023-12-26T22:02:47.329857Z",
     "start_time": "2023-12-26T22:02:47.148293Z"
    }
   },
   "outputs": [],
   "source": [
    "dfNews = pd.read_csv('.../referNewsWebUpdatedIdentified_updated.csv')"
   ]
  },
  {
   "cell_type": "code",
   "execution_count": 114,
   "id": "258be218",
   "metadata": {
    "ExecuteTime": {
     "end_time": "2023-12-26T22:03:51.925237Z",
     "start_time": "2023-12-26T22:03:51.904271Z"
    },
    "run_control": {
     "marked": false
    }
   },
   "outputs": [],
   "source": [
    "# count the references\n",
    "dfNewsIde = dfNews.groupby('name')['name'].count().to_frame()"
   ]
  },
  {
   "cell_type": "code",
   "execution_count": 115,
   "id": "d951d4d4",
   "metadata": {
    "ExecuteTime": {
     "end_time": "2023-12-26T22:03:52.709148Z",
     "start_time": "2023-12-26T22:03:52.700584Z"
    },
    "run_control": {
     "marked": false
    }
   },
   "outputs": [],
   "source": [
    "dfNewsIde.rename(columns = {'name': 'newsPoliCount'}, inplace= True)"
   ]
  },
  {
   "cell_type": "code",
   "execution_count": 116,
   "id": "8289f8a0",
   "metadata": {
    "ExecuteTime": {
     "end_time": "2023-12-26T22:03:53.305941Z",
     "start_time": "2023-12-26T22:03:53.298057Z"
    },
    "run_control": {
     "marked": false
    }
   },
   "outputs": [],
   "source": [
    "dfNewsIde.reset_index(inplace = True)"
   ]
  },
  {
   "cell_type": "code",
   "execution_count": 120,
   "id": "243b1c61",
   "metadata": {
    "ExecuteTime": {
     "end_time": "2023-12-26T22:04:15.767041Z",
     "start_time": "2023-12-26T22:04:15.751010Z"
    },
    "run_control": {
     "marked": false
    }
   },
   "outputs": [
    {
     "data": {
      "text/html": [
       "<div>\n",
       "<style scoped>\n",
       "    .dataframe tbody tr th:only-of-type {\n",
       "        vertical-align: middle;\n",
       "    }\n",
       "\n",
       "    .dataframe tbody tr th {\n",
       "        vertical-align: top;\n",
       "    }\n",
       "\n",
       "    .dataframe thead th {\n",
       "        text-align: right;\n",
       "    }\n",
       "</style>\n",
       "<table border=\"1\" class=\"dataframe\">\n",
       "  <thead>\n",
       "    <tr style=\"text-align: right;\">\n",
       "      <th></th>\n",
       "      <th>name</th>\n",
       "      <th>newsPoliCountUpdated2</th>\n",
       "    </tr>\n",
       "  </thead>\n",
       "  <tbody>\n",
       "    <tr>\n",
       "      <th>0</th>\n",
       "      <td>Aaron_Bean</td>\n",
       "      <td>7</td>\n",
       "    </tr>\n",
       "    <tr>\n",
       "      <th>1</th>\n",
       "      <td>Aaron_Schock</td>\n",
       "      <td>134</td>\n",
       "    </tr>\n",
       "    <tr>\n",
       "      <th>2</th>\n",
       "      <td>Abby_Finkenauer</td>\n",
       "      <td>21</td>\n",
       "    </tr>\n",
       "    <tr>\n",
       "      <th>3</th>\n",
       "      <td>Abigail_Spanberger</td>\n",
       "      <td>47</td>\n",
       "    </tr>\n",
       "    <tr>\n",
       "      <th>4</th>\n",
       "      <td>Adam_Kinzinger</td>\n",
       "      <td>92</td>\n",
       "    </tr>\n",
       "  </tbody>\n",
       "</table>\n",
       "</div>"
      ],
      "text/plain": [
       "                 name  newsPoliCountUpdated2\n",
       "0          Aaron_Bean                      7\n",
       "1        Aaron_Schock                    134\n",
       "2     Abby_Finkenauer                     21\n",
       "3  Abigail_Spanberger                     47\n",
       "4      Adam_Kinzinger                     92"
      ]
     },
     "execution_count": 120,
     "metadata": {},
     "output_type": "execute_result"
    }
   ],
   "source": [
    "dfNewsIde.head()"
   ]
  },
  {
   "cell_type": "code",
   "execution_count": 118,
   "id": "30f0cd63",
   "metadata": {
    "ExecuteTime": {
     "end_time": "2023-12-26T22:04:04.078863Z",
     "start_time": "2023-12-26T22:04:04.067620Z"
    },
    "run_control": {
     "marked": false
    }
   },
   "outputs": [],
   "source": [
    "dfNewsIde.rename(columns = {'newsPoliCount': 'newsPoliCountUpdated2'}, inplace= True)"
   ]
  },
  {
   "cell_type": "code",
   "execution_count": 121,
   "id": "8d12fe9b",
   "metadata": {
    "ExecuteTime": {
     "end_time": "2023-12-26T22:06:17.994587Z",
     "start_time": "2023-12-26T22:06:17.973728Z"
    }
   },
   "outputs": [],
   "source": [
    "dfTotal = pd.merge(df, dfNewsIde, on = 'name')"
   ]
  },
  {
   "cell_type": "code",
   "execution_count": 122,
   "id": "f16640cd",
   "metadata": {
    "ExecuteTime": {
     "end_time": "2023-12-26T22:06:27.495739Z",
     "start_time": "2023-12-26T22:06:27.483855Z"
    }
   },
   "outputs": [
    {
     "data": {
      "text/html": [
       "<div>\n",
       "<style scoped>\n",
       "    .dataframe tbody tr th:only-of-type {\n",
       "        vertical-align: middle;\n",
       "    }\n",
       "\n",
       "    .dataframe tbody tr th {\n",
       "        vertical-align: top;\n",
       "    }\n",
       "\n",
       "    .dataframe thead th {\n",
       "        text-align: right;\n",
       "    }\n",
       "</style>\n",
       "<table border=\"1\" class=\"dataframe\">\n",
       "  <thead>\n",
       "    <tr style=\"text-align: right;\">\n",
       "      <th></th>\n",
       "      <th>name</th>\n",
       "      <th>totalCount</th>\n",
       "      <th>newsCount</th>\n",
       "      <th>webCount</th>\n",
       "      <th>bookCount</th>\n",
       "      <th>newsgroupCount</th>\n",
       "      <th>magazineCount</th>\n",
       "      <th>journalCount</th>\n",
       "      <th>interviewCount</th>\n",
       "      <th>conferenceCount</th>\n",
       "      <th>...</th>\n",
       "      <th>thesisCount</th>\n",
       "      <th>speechCount</th>\n",
       "      <th>episodeCount</th>\n",
       "      <th>mediaCount</th>\n",
       "      <th>mediaNoCount</th>\n",
       "      <th>checkCount</th>\n",
       "      <th>newsWebCount</th>\n",
       "      <th>newsPoliCount</th>\n",
       "      <th>newsPoliUpdate</th>\n",
       "      <th>newsPoliCountUpdated2</th>\n",
       "    </tr>\n",
       "  </thead>\n",
       "  <tbody>\n",
       "    <tr>\n",
       "      <th>0</th>\n",
       "      <td>Chuck_Grassley</td>\n",
       "      <td>173</td>\n",
       "      <td>82</td>\n",
       "      <td>86</td>\n",
       "      <td>2</td>\n",
       "      <td>0</td>\n",
       "      <td>1</td>\n",
       "      <td>0</td>\n",
       "      <td>0</td>\n",
       "      <td>0</td>\n",
       "      <td>...</td>\n",
       "      <td>0</td>\n",
       "      <td>0</td>\n",
       "      <td>0</td>\n",
       "      <td>0</td>\n",
       "      <td>0</td>\n",
       "      <td>172</td>\n",
       "      <td>163</td>\n",
       "      <td>90.0</td>\n",
       "      <td>90.0</td>\n",
       "      <td>147</td>\n",
       "    </tr>\n",
       "    <tr>\n",
       "      <th>1</th>\n",
       "      <td>Mitch_McConnell</td>\n",
       "      <td>245</td>\n",
       "      <td>130</td>\n",
       "      <td>80</td>\n",
       "      <td>26</td>\n",
       "      <td>0</td>\n",
       "      <td>5</td>\n",
       "      <td>4</td>\n",
       "      <td>0</td>\n",
       "      <td>0</td>\n",
       "      <td>...</td>\n",
       "      <td>0</td>\n",
       "      <td>0</td>\n",
       "      <td>0</td>\n",
       "      <td>0</td>\n",
       "      <td>0</td>\n",
       "      <td>245</td>\n",
       "      <td>198</td>\n",
       "      <td>146.0</td>\n",
       "      <td>146.0</td>\n",
       "      <td>182</td>\n",
       "    </tr>\n",
       "    <tr>\n",
       "      <th>2</th>\n",
       "      <td>Dianne_Feinstein</td>\n",
       "      <td>145</td>\n",
       "      <td>84</td>\n",
       "      <td>54</td>\n",
       "      <td>4</td>\n",
       "      <td>0</td>\n",
       "      <td>2</td>\n",
       "      <td>0</td>\n",
       "      <td>0</td>\n",
       "      <td>0</td>\n",
       "      <td>...</td>\n",
       "      <td>0</td>\n",
       "      <td>0</td>\n",
       "      <td>0</td>\n",
       "      <td>1</td>\n",
       "      <td>0</td>\n",
       "      <td>144</td>\n",
       "      <td>126</td>\n",
       "      <td>59.0</td>\n",
       "      <td>59.0</td>\n",
       "      <td>113</td>\n",
       "    </tr>\n",
       "    <tr>\n",
       "      <th>3</th>\n",
       "      <td>Patty_Murray</td>\n",
       "      <td>76</td>\n",
       "      <td>36</td>\n",
       "      <td>35</td>\n",
       "      <td>1</td>\n",
       "      <td>0</td>\n",
       "      <td>2</td>\n",
       "      <td>1</td>\n",
       "      <td>0</td>\n",
       "      <td>0</td>\n",
       "      <td>...</td>\n",
       "      <td>0</td>\n",
       "      <td>0</td>\n",
       "      <td>0</td>\n",
       "      <td>0</td>\n",
       "      <td>0</td>\n",
       "      <td>76</td>\n",
       "      <td>56</td>\n",
       "      <td>21.0</td>\n",
       "      <td>21.0</td>\n",
       "      <td>54</td>\n",
       "    </tr>\n",
       "    <tr>\n",
       "      <th>4</th>\n",
       "      <td>Ron_Wyden</td>\n",
       "      <td>161</td>\n",
       "      <td>87</td>\n",
       "      <td>71</td>\n",
       "      <td>0</td>\n",
       "      <td>0</td>\n",
       "      <td>3</td>\n",
       "      <td>0</td>\n",
       "      <td>0</td>\n",
       "      <td>0</td>\n",
       "      <td>...</td>\n",
       "      <td>0</td>\n",
       "      <td>0</td>\n",
       "      <td>0</td>\n",
       "      <td>0</td>\n",
       "      <td>0</td>\n",
       "      <td>161</td>\n",
       "      <td>142</td>\n",
       "      <td>75.0</td>\n",
       "      <td>75.0</td>\n",
       "      <td>132</td>\n",
       "    </tr>\n",
       "  </tbody>\n",
       "</table>\n",
       "<p>5 rows × 24 columns</p>\n",
       "</div>"
      ],
      "text/plain": [
       "               name  totalCount  newsCount  webCount  bookCount  \\\n",
       "0    Chuck_Grassley         173         82        86          2   \n",
       "1   Mitch_McConnell         245        130        80         26   \n",
       "2  Dianne_Feinstein         145         84        54          4   \n",
       "3      Patty_Murray          76         36        35          1   \n",
       "4         Ron_Wyden         161         87        71          0   \n",
       "\n",
       "   newsgroupCount  magazineCount  journalCount  interviewCount  \\\n",
       "0               0              1             0               0   \n",
       "1               0              5             4               0   \n",
       "2               0              2             0               0   \n",
       "3               0              2             1               0   \n",
       "4               0              3             0               0   \n",
       "\n",
       "   conferenceCount  ...  thesisCount  speechCount  episodeCount  mediaCount  \\\n",
       "0                0  ...            0            0             0           0   \n",
       "1                0  ...            0            0             0           0   \n",
       "2                0  ...            0            0             0           1   \n",
       "3                0  ...            0            0             0           0   \n",
       "4                0  ...            0            0             0           0   \n",
       "\n",
       "   mediaNoCount  checkCount  newsWebCount  newsPoliCount  newsPoliUpdate  \\\n",
       "0             0         172           163           90.0            90.0   \n",
       "1             0         245           198          146.0           146.0   \n",
       "2             0         144           126           59.0            59.0   \n",
       "3             0          76            56           21.0            21.0   \n",
       "4             0         161           142           75.0            75.0   \n",
       "\n",
       "   newsPoliCountUpdated2  \n",
       "0                    147  \n",
       "1                    182  \n",
       "2                    113  \n",
       "3                     54  \n",
       "4                    132  \n",
       "\n",
       "[5 rows x 24 columns]"
      ]
     },
     "execution_count": 122,
     "metadata": {},
     "output_type": "execute_result"
    }
   ],
   "source": [
    "dfTotal.head()"
   ]
  },
  {
   "cell_type": "code",
   "execution_count": 124,
   "id": "00655a15",
   "metadata": {
    "ExecuteTime": {
     "end_time": "2023-12-27T01:00:12.164249Z",
     "start_time": "2023-12-27T01:00:12.151262Z"
    },
    "run_control": {
     "marked": false
    }
   },
   "outputs": [],
   "source": [
    "# get the percent of news citations (from outlets with known poli leanings) for individual pages\n",
    "percentIde = dfTotal['newsPoliCountUpdated2'].values / dfTotal['totalCount'].values"
   ]
  },
  {
   "cell_type": "code",
   "execution_count": 125,
   "id": "2f5d3a1d",
   "metadata": {
    "ExecuteTime": {
     "end_time": "2023-12-27T01:00:16.368678Z",
     "start_time": "2023-12-27T01:00:16.352316Z"
    },
    "run_control": {
     "marked": false
    }
   },
   "outputs": [],
   "source": [
    "# # round to two decimal places\n",
    "percentIde2 = [round(i, 2) for i in percentIde]"
   ]
  },
  {
   "cell_type": "code",
   "execution_count": 126,
   "id": "c7e48fa8",
   "metadata": {
    "ExecuteTime": {
     "end_time": "2023-12-27T01:00:20.982824Z",
     "start_time": "2023-12-27T01:00:20.971009Z"
    },
    "run_control": {
     "marked": false
    }
   },
   "outputs": [],
   "source": [
    "# create a new column\n",
    "dfTotal['percentNewsIde'] = percentIde2"
   ]
  },
  {
   "cell_type": "code",
   "execution_count": 55,
   "id": "72cd7158",
   "metadata": {
    "ExecuteTime": {
     "end_time": "2023-07-04T19:26:03.526651Z",
     "start_time": "2023-07-04T19:26:03.518927Z"
    },
    "run_control": {
     "marked": false
    }
   },
   "outputs": [],
   "source": [
    "#df[df['percentNewsIde'] == 1]"
   ]
  },
  {
   "cell_type": "code",
   "execution_count": 127,
   "id": "1c54b520",
   "metadata": {
    "ExecuteTime": {
     "end_time": "2023-12-27T01:01:18.973764Z",
     "start_time": "2023-12-27T01:01:18.959594Z"
    },
    "run_control": {
     "marked": false
    }
   },
   "outputs": [],
   "source": [
    "# create a new dataframe\n",
    "dfPlot = dfTotal[['name', 'totalCount', 'newsPoliCountUpdated2','percentNewsIde']]"
   ]
  },
  {
   "cell_type": "code",
   "execution_count": 128,
   "id": "dfca114f",
   "metadata": {
    "ExecuteTime": {
     "end_time": "2023-12-27T01:01:22.182053Z",
     "start_time": "2023-12-27T01:01:22.166128Z"
    },
    "run_control": {
     "marked": false
    }
   },
   "outputs": [
    {
     "data": {
      "text/html": [
       "<div>\n",
       "<style scoped>\n",
       "    .dataframe tbody tr th:only-of-type {\n",
       "        vertical-align: middle;\n",
       "    }\n",
       "\n",
       "    .dataframe tbody tr th {\n",
       "        vertical-align: top;\n",
       "    }\n",
       "\n",
       "    .dataframe thead th {\n",
       "        text-align: right;\n",
       "    }\n",
       "</style>\n",
       "<table border=\"1\" class=\"dataframe\">\n",
       "  <thead>\n",
       "    <tr style=\"text-align: right;\">\n",
       "      <th></th>\n",
       "      <th>name</th>\n",
       "      <th>totalCount</th>\n",
       "      <th>newsPoliCountUpdated2</th>\n",
       "      <th>percentNewsIde</th>\n",
       "    </tr>\n",
       "  </thead>\n",
       "  <tbody>\n",
       "    <tr>\n",
       "      <th>0</th>\n",
       "      <td>Chuck_Grassley</td>\n",
       "      <td>173</td>\n",
       "      <td>147</td>\n",
       "      <td>0.85</td>\n",
       "    </tr>\n",
       "    <tr>\n",
       "      <th>1</th>\n",
       "      <td>Mitch_McConnell</td>\n",
       "      <td>245</td>\n",
       "      <td>182</td>\n",
       "      <td>0.74</td>\n",
       "    </tr>\n",
       "    <tr>\n",
       "      <th>2</th>\n",
       "      <td>Dianne_Feinstein</td>\n",
       "      <td>145</td>\n",
       "      <td>113</td>\n",
       "      <td>0.78</td>\n",
       "    </tr>\n",
       "    <tr>\n",
       "      <th>3</th>\n",
       "      <td>Patty_Murray</td>\n",
       "      <td>76</td>\n",
       "      <td>54</td>\n",
       "      <td>0.71</td>\n",
       "    </tr>\n",
       "    <tr>\n",
       "      <th>4</th>\n",
       "      <td>Ron_Wyden</td>\n",
       "      <td>161</td>\n",
       "      <td>132</td>\n",
       "      <td>0.82</td>\n",
       "    </tr>\n",
       "  </tbody>\n",
       "</table>\n",
       "</div>"
      ],
      "text/plain": [
       "               name  totalCount  newsPoliCountUpdated2  percentNewsIde\n",
       "0    Chuck_Grassley         173                    147            0.85\n",
       "1   Mitch_McConnell         245                    182            0.74\n",
       "2  Dianne_Feinstein         145                    113            0.78\n",
       "3      Patty_Murray          76                     54            0.71\n",
       "4         Ron_Wyden         161                    132            0.82"
      ]
     },
     "execution_count": 128,
     "metadata": {},
     "output_type": "execute_result"
    }
   ],
   "source": [
    "dfPlot.head()"
   ]
  },
  {
   "cell_type": "code",
   "execution_count": 130,
   "id": "e7f87990",
   "metadata": {
    "ExecuteTime": {
     "end_time": "2023-12-27T01:02:39.389397Z",
     "start_time": "2023-12-27T01:02:39.377202Z"
    }
   },
   "outputs": [
    {
     "data": {
      "text/plain": [
       "0.6831085714285715"
      ]
     },
     "execution_count": 130,
     "metadata": {},
     "output_type": "execute_result"
    }
   ],
   "source": [
    "# the average percent of news sources (with known poli leanings) in references\n",
    "sum(dfTotal['percentNewsIde']) / len(dfPlot)"
   ]
  },
  {
   "cell_type": "code",
   "execution_count": 131,
   "id": "06ca0f12",
   "metadata": {
    "ExecuteTime": {
     "end_time": "2023-12-27T01:04:54.845608Z",
     "start_time": "2023-12-27T01:04:54.825733Z"
    },
    "run_control": {
     "marked": false
    }
   },
   "outputs": [],
   "source": [
    "dfMembers = pd.read_csv('.../congressMembersUrlUpdated4.csv')"
   ]
  },
  {
   "cell_type": "code",
   "execution_count": 134,
   "id": "579a82ac",
   "metadata": {
    "ExecuteTime": {
     "end_time": "2023-12-27T01:05:09.446172Z",
     "start_time": "2023-12-27T01:05:09.432563Z"
    },
    "run_control": {
     "marked": false
    }
   },
   "outputs": [
    {
     "data": {
      "text/plain": [
       "0      Republican\n",
       "2      Democratic\n",
       "19    Independent\n",
       "Name: party, dtype: object"
      ]
     },
     "execution_count": 134,
     "metadata": {},
     "output_type": "execute_result"
    }
   ],
   "source": [
    "dfMembers['party'].drop_duplicates()"
   ]
  },
  {
   "cell_type": "code",
   "execution_count": 136,
   "id": "3671a388",
   "metadata": {
    "ExecuteTime": {
     "end_time": "2023-12-27T01:05:17.714188Z",
     "start_time": "2023-12-27T01:05:17.702303Z"
    },
    "run_control": {
     "marked": false
    }
   },
   "outputs": [],
   "source": [
    "dfMem = dfMembers[['newNames', 'party']]"
   ]
  },
  {
   "cell_type": "code",
   "execution_count": 137,
   "id": "2445030e",
   "metadata": {
    "ExecuteTime": {
     "end_time": "2023-12-27T01:05:18.537996Z",
     "start_time": "2023-12-27T01:05:18.524088Z"
    },
    "run_control": {
     "marked": false
    }
   },
   "outputs": [
    {
     "data": {
      "text/html": [
       "<div>\n",
       "<style scoped>\n",
       "    .dataframe tbody tr th:only-of-type {\n",
       "        vertical-align: middle;\n",
       "    }\n",
       "\n",
       "    .dataframe tbody tr th {\n",
       "        vertical-align: top;\n",
       "    }\n",
       "\n",
       "    .dataframe thead th {\n",
       "        text-align: right;\n",
       "    }\n",
       "</style>\n",
       "<table border=\"1\" class=\"dataframe\">\n",
       "  <thead>\n",
       "    <tr style=\"text-align: right;\">\n",
       "      <th></th>\n",
       "      <th>newNames</th>\n",
       "      <th>party</th>\n",
       "    </tr>\n",
       "  </thead>\n",
       "  <tbody>\n",
       "    <tr>\n",
       "      <th>0</th>\n",
       "      <td>Chuck_Grassley</td>\n",
       "      <td>Republican</td>\n",
       "    </tr>\n",
       "    <tr>\n",
       "      <th>1</th>\n",
       "      <td>Mitch_McConnell</td>\n",
       "      <td>Republican</td>\n",
       "    </tr>\n",
       "    <tr>\n",
       "      <th>2</th>\n",
       "      <td>Dianne_Feinstein</td>\n",
       "      <td>Democratic</td>\n",
       "    </tr>\n",
       "    <tr>\n",
       "      <th>3</th>\n",
       "      <td>Patty_Murray</td>\n",
       "      <td>Democratic</td>\n",
       "    </tr>\n",
       "    <tr>\n",
       "      <th>4</th>\n",
       "      <td>Ron_Wyden</td>\n",
       "      <td>Democratic</td>\n",
       "    </tr>\n",
       "  </tbody>\n",
       "</table>\n",
       "</div>"
      ],
      "text/plain": [
       "           newNames       party\n",
       "0    Chuck_Grassley  Republican\n",
       "1   Mitch_McConnell  Republican\n",
       "2  Dianne_Feinstein  Democratic\n",
       "3      Patty_Murray  Democratic\n",
       "4         Ron_Wyden  Democratic"
      ]
     },
     "execution_count": 137,
     "metadata": {},
     "output_type": "execute_result"
    }
   ],
   "source": [
    "dfMem.head()"
   ]
  },
  {
   "cell_type": "code",
   "execution_count": 138,
   "id": "e57256c6",
   "metadata": {
    "ExecuteTime": {
     "end_time": "2023-12-27T01:05:38.960677Z",
     "start_time": "2023-12-27T01:05:38.947393Z"
    },
    "run_control": {
     "marked": false
    }
   },
   "outputs": [],
   "source": [
    "# merge two datasets on the column of names\n",
    "dfRev = pd.merge(dfMem, dfPlot, left_on = 'newNames', right_on = 'name').drop('newNames', axis = 1)"
   ]
  },
  {
   "cell_type": "code",
   "execution_count": 139,
   "id": "58ab9e5f",
   "metadata": {
    "ExecuteTime": {
     "end_time": "2023-12-27T01:05:41.317134Z",
     "start_time": "2023-12-27T01:05:41.297728Z"
    },
    "run_control": {
     "marked": false
    }
   },
   "outputs": [
    {
     "data": {
      "text/html": [
       "<div>\n",
       "<style scoped>\n",
       "    .dataframe tbody tr th:only-of-type {\n",
       "        vertical-align: middle;\n",
       "    }\n",
       "\n",
       "    .dataframe tbody tr th {\n",
       "        vertical-align: top;\n",
       "    }\n",
       "\n",
       "    .dataframe thead th {\n",
       "        text-align: right;\n",
       "    }\n",
       "</style>\n",
       "<table border=\"1\" class=\"dataframe\">\n",
       "  <thead>\n",
       "    <tr style=\"text-align: right;\">\n",
       "      <th></th>\n",
       "      <th>party</th>\n",
       "      <th>name</th>\n",
       "      <th>totalCount</th>\n",
       "      <th>newsPoliCountUpdated2</th>\n",
       "      <th>percentNewsIde</th>\n",
       "    </tr>\n",
       "  </thead>\n",
       "  <tbody>\n",
       "    <tr>\n",
       "      <th>0</th>\n",
       "      <td>Republican</td>\n",
       "      <td>Chuck_Grassley</td>\n",
       "      <td>173</td>\n",
       "      <td>147</td>\n",
       "      <td>0.85</td>\n",
       "    </tr>\n",
       "    <tr>\n",
       "      <th>1</th>\n",
       "      <td>Republican</td>\n",
       "      <td>Mitch_McConnell</td>\n",
       "      <td>245</td>\n",
       "      <td>182</td>\n",
       "      <td>0.74</td>\n",
       "    </tr>\n",
       "    <tr>\n",
       "      <th>2</th>\n",
       "      <td>Democratic</td>\n",
       "      <td>Dianne_Feinstein</td>\n",
       "      <td>145</td>\n",
       "      <td>113</td>\n",
       "      <td>0.78</td>\n",
       "    </tr>\n",
       "    <tr>\n",
       "      <th>3</th>\n",
       "      <td>Democratic</td>\n",
       "      <td>Patty_Murray</td>\n",
       "      <td>76</td>\n",
       "      <td>54</td>\n",
       "      <td>0.71</td>\n",
       "    </tr>\n",
       "    <tr>\n",
       "      <th>4</th>\n",
       "      <td>Democratic</td>\n",
       "      <td>Ron_Wyden</td>\n",
       "      <td>161</td>\n",
       "      <td>132</td>\n",
       "      <td>0.82</td>\n",
       "    </tr>\n",
       "  </tbody>\n",
       "</table>\n",
       "</div>"
      ],
      "text/plain": [
       "        party              name  totalCount  newsPoliCountUpdated2  \\\n",
       "0  Republican    Chuck_Grassley         173                    147   \n",
       "1  Republican   Mitch_McConnell         245                    182   \n",
       "2  Democratic  Dianne_Feinstein         145                    113   \n",
       "3  Democratic      Patty_Murray          76                     54   \n",
       "4  Democratic         Ron_Wyden         161                    132   \n",
       "\n",
       "   percentNewsIde  \n",
       "0            0.85  \n",
       "1            0.74  \n",
       "2            0.78  \n",
       "3            0.71  \n",
       "4            0.82  "
      ]
     },
     "execution_count": 139,
     "metadata": {},
     "output_type": "execute_result"
    }
   ],
   "source": [
    "dfRev.head()"
   ]
  },
  {
   "cell_type": "code",
   "execution_count": 142,
   "id": "ba842277",
   "metadata": {
    "ExecuteTime": {
     "end_time": "2023-12-27T01:07:38.934471Z",
     "start_time": "2023-12-27T01:07:38.921587Z"
    }
   },
   "outputs": [],
   "source": [
    "dfRep = dfRev[dfRev['party'] == 'Republican']\n",
    "dfLib = dfRev[dfRev['party'] == 'Democratic']\n",
    "#dfInd = dfRev[dfRev['party'] == 'Independent']"
   ]
  },
  {
   "cell_type": "code",
   "execution_count": 144,
   "id": "3fa4812f",
   "metadata": {
    "ExecuteTime": {
     "end_time": "2023-12-27T01:08:36.422748Z",
     "start_time": "2023-12-27T01:08:36.015360Z"
    }
   },
   "outputs": [
    {
     "data": {
      "image/png": "[encoded data removed]",
      "text/plain": [
       "<Figure size 1000x600 with 1 Axes>"
      ]
     },
     "metadata": {},
     "output_type": "display_data"
    }
   ],
   "source": [
    "# add a legend\n",
    "\n",
    "fig, ax = plt.subplots(figsize = (10, 6))\n",
    "#y = dfRev['percentNewsIde']\n",
    "#x = range(len(y))\n",
    "\n",
    "#colors = np.random.rand(532)\n",
    "\n",
    "ax.spines['top'].set_visible(False)\n",
    "ax.spines['right'].set_visible(False)\n",
    "\n",
    "#plt.scatter(range(len(dfLib)), dfLib['percentNewsIde'],  c = 'blue', label = 'Pages for Democrats', alpha = 0.8)  \n",
    "plt.scatter(range(len(dfRep)), dfRep['percentNewsIde'], c = 'red', label = 'Pages for Republicans', alpha = 0.8)   \n",
    "plt.scatter(range(len(dfLib)), dfLib['percentNewsIde'],  c = 'blue', label = 'Pages for Democrats', alpha = 0.8)   \n",
    "#plt.scatter(range(len(dfInd)), dfInd['percentNewsIde'], c = 'purple',label = 'Pages for Independents', alpha = 0.8)   \n",
    "\n",
    "plt.legend(loc='lower left')\n",
    "\n",
    "plt.xticks([])\n",
    "plt.yticks(np.arange(0,1.1,0.1))\n",
    "plt.xlabel('Wikipedia Pages')\n",
    "plt.ylabel('Percentage of News Sources in References')\n",
    "plt.axhline(0.68, linestyle = '--', color = 'k')\n",
    "#plt.savefig('.../scatterRevelanceNews_updated.pdf', bbox_inches = 'tight')\n",
    "plt.show()"
   ]
  },
  {
   "cell_type": "code",
   "execution_count": null,
   "id": "9051a566",
   "metadata": {},
   "outputs": [],
   "source": []
  },
  {
   "attachments": {},
   "cell_type": "markdown",
   "id": "8062e25f",
   "metadata": {},
   "source": [
    "## caculate the frequency of liberal and conservative news sources on the pages"
   ]
  },
  {
   "cell_type": "markdown",
   "id": "4c742085",
   "metadata": {},
   "source": [
    "### perform a t test"
   ]
  },
  {
   "cell_type": "code",
   "execution_count": 145,
   "id": "977436e6",
   "metadata": {
    "ExecuteTime": {
     "end_time": "2023-12-27T01:12:56.973657Z",
     "start_time": "2023-12-27T01:12:56.957692Z"
    },
    "run_control": {
     "marked": false
    }
   },
   "outputs": [],
   "source": [
    "dfTable2 = pd.read_csv('.../tTestTable.csv')"
   ]
  },
  {
   "cell_type": "code",
   "execution_count": 146,
   "id": "c5b56da4",
   "metadata": {
    "ExecuteTime": {
     "end_time": "2023-12-27T01:12:58.182527Z",
     "start_time": "2023-12-27T01:12:58.168892Z"
    },
    "run_control": {
     "marked": false
    },
    "scrolled": true
   },
   "outputs": [
    {
     "data": {
      "text/html": [
       "<div>\n",
       "<style scoped>\n",
       "    .dataframe tbody tr th:only-of-type {\n",
       "        vertical-align: middle;\n",
       "    }\n",
       "\n",
       "    .dataframe tbody tr th {\n",
       "        vertical-align: top;\n",
       "    }\n",
       "\n",
       "    .dataframe thead th {\n",
       "        text-align: right;\n",
       "    }\n",
       "</style>\n",
       "<table border=\"1\" class=\"dataframe\">\n",
       "  <thead>\n",
       "    <tr style=\"text-align: right;\">\n",
       "      <th></th>\n",
       "      <th>name</th>\n",
       "      <th>blue</th>\n",
       "      <th>red</th>\n",
       "    </tr>\n",
       "  </thead>\n",
       "  <tbody>\n",
       "    <tr>\n",
       "      <th>0</th>\n",
       "      <td>Aaron_Bean</td>\n",
       "      <td>1</td>\n",
       "      <td>6</td>\n",
       "    </tr>\n",
       "    <tr>\n",
       "      <th>1</th>\n",
       "      <td>Aaron_Schock</td>\n",
       "      <td>100</td>\n",
       "      <td>34</td>\n",
       "    </tr>\n",
       "    <tr>\n",
       "      <th>2</th>\n",
       "      <td>Abby_Finkenauer</td>\n",
       "      <td>11</td>\n",
       "      <td>10</td>\n",
       "    </tr>\n",
       "    <tr>\n",
       "      <th>3</th>\n",
       "      <td>Abigail_Spanberger</td>\n",
       "      <td>39</td>\n",
       "      <td>8</td>\n",
       "    </tr>\n",
       "    <tr>\n",
       "      <th>4</th>\n",
       "      <td>Adam_Kinzinger</td>\n",
       "      <td>83</td>\n",
       "      <td>9</td>\n",
       "    </tr>\n",
       "  </tbody>\n",
       "</table>\n",
       "</div>"
      ],
      "text/plain": [
       "                 name  blue  red\n",
       "0          Aaron_Bean     1    6\n",
       "1        Aaron_Schock   100   34\n",
       "2     Abby_Finkenauer    11   10\n",
       "3  Abigail_Spanberger    39    8\n",
       "4      Adam_Kinzinger    83    9"
      ]
     },
     "execution_count": 146,
     "metadata": {},
     "output_type": "execute_result"
    }
   ],
   "source": [
    "dfTable2.head()"
   ]
  },
  {
   "cell_type": "code",
   "execution_count": 149,
   "id": "7a38766f",
   "metadata": {
    "ExecuteTime": {
     "end_time": "2023-12-27T01:15:24.587178Z",
     "start_time": "2023-12-27T01:15:24.571715Z"
    }
   },
   "outputs": [],
   "source": [
    "dfTable2 = dfTable2[dfTable2['name'].isin(dfMembers['newNames'])]"
   ]
  },
  {
   "cell_type": "code",
   "execution_count": 150,
   "id": "907d807c",
   "metadata": {
    "ExecuteTime": {
     "end_time": "2023-12-27T01:15:27.231328Z",
     "start_time": "2023-12-27T01:15:27.223683Z"
    }
   },
   "outputs": [
    {
     "data": {
      "text/plain": [
       "875"
      ]
     },
     "execution_count": 150,
     "metadata": {},
     "output_type": "execute_result"
    }
   ],
   "source": [
    "len(dfTable2)"
   ]
  },
  {
   "cell_type": "code",
   "execution_count": 151,
   "id": "d79dc8ef",
   "metadata": {
    "ExecuteTime": {
     "end_time": "2023-12-27T01:15:29.564726Z",
     "start_time": "2023-12-27T01:15:29.553261Z"
    },
    "run_control": {
     "marked": false
    }
   },
   "outputs": [
    {
     "data": {
      "text/plain": [
       "33846"
      ]
     },
     "execution_count": 151,
     "metadata": {},
     "output_type": "execute_result"
    }
   ],
   "source": [
    "dfTable2['blue'].sum()"
   ]
  },
  {
   "cell_type": "code",
   "execution_count": 152,
   "id": "7bc3984b",
   "metadata": {
    "ExecuteTime": {
     "end_time": "2023-12-27T01:15:30.843016Z",
     "start_time": "2023-12-27T01:15:30.828949Z"
    },
    "run_control": {
     "marked": false
    }
   },
   "outputs": [
    {
     "data": {
      "text/plain": [
       "9767"
      ]
     },
     "execution_count": 152,
     "metadata": {},
     "output_type": "execute_result"
    }
   ],
   "source": [
    "dfTable2['red'].sum()"
   ]
  },
  {
   "cell_type": "code",
   "execution_count": 153,
   "id": "39224b5e",
   "metadata": {
    "ExecuteTime": {
     "end_time": "2023-12-27T01:15:36.523537Z",
     "start_time": "2023-12-27T01:15:36.508713Z"
    },
    "run_control": {
     "marked": false
    }
   },
   "outputs": [
    {
     "data": {
      "text/plain": [
       "TtestResult(statistic=18.64230446828503, pvalue=6.9003567495151004e-71, df=1748.0)"
      ]
     },
     "execution_count": 153,
     "metadata": {},
     "output_type": "execute_result"
    }
   ],
   "source": [
    "# independent t test\n",
    "stats.ttest_ind(dfTable2['blue'], \n",
    "                dfTable2['red'])"
   ]
  },
  {
   "cell_type": "code",
   "execution_count": 154,
   "id": "4d2bad63",
   "metadata": {
    "ExecuteTime": {
     "end_time": "2023-12-27T01:15:44.806110Z",
     "start_time": "2023-12-27T01:15:44.793118Z"
    },
    "run_control": {
     "marked": false
    }
   },
   "outputs": [
    {
     "data": {
      "text/plain": [
       "TtestResult(statistic=18.64230446828503, pvalue=1.754529662017703e-67, df=1082.375358403943)"
      ]
     },
     "execution_count": 154,
     "metadata": {},
     "output_type": "execute_result"
    }
   ],
   "source": [
    "# welch t test\n",
    "stats.ttest_ind(dfTable2['blue'], dfTable2['red'], equal_var = False)"
   ]
  },
  {
   "cell_type": "code",
   "execution_count": 155,
   "id": "f67e14cf",
   "metadata": {
    "ExecuteTime": {
     "end_time": "2023-12-27T01:15:49.930560Z",
     "start_time": "2023-12-27T01:15:49.918708Z"
    },
    "run_control": {
     "marked": false
    }
   },
   "outputs": [
    {
     "data": {
      "text/plain": [
       "ShapiroResult(statistic=0.7553125619888306, pvalue=4.623322137539754e-34)"
      ]
     },
     "execution_count": 155,
     "metadata": {},
     "output_type": "execute_result"
    }
   ],
   "source": [
    "sampling_difference = dfTable2['blue'].values - \\\n",
    "                     dfTable2['red'].values\n",
    "\n",
    "stats.shapiro(sampling_difference)\n",
    "#Unfortunately, the output is not labelled but is in the format of (W test statistic, p-value). \n",
    "# The test is not significant which indicates the sampling distribution is normally distributed."
   ]
  },
  {
   "cell_type": "code",
   "execution_count": 156,
   "id": "7710012a",
   "metadata": {
    "ExecuteTime": {
     "end_time": "2023-12-27T01:15:51.752637Z",
     "start_time": "2023-12-27T01:15:51.736454Z"
    },
    "run_control": {
     "marked": false
    }
   },
   "outputs": [
    {
     "data": {
      "text/plain": [
       "LeveneResult(statistic=253.7166053261225, pvalue=1.9177138857007143e-53)"
      ]
     },
     "execution_count": 156,
     "metadata": {},
     "output_type": "execute_result"
    }
   ],
   "source": [
    "stats.levene(dfTable2['blue'],\n",
    "             dfTable2['red'],\n",
    "             center= 'mean')"
   ]
  },
  {
   "cell_type": "markdown",
   "id": "01db97c6",
   "metadata": {},
   "source": [
    "### plot a stacked bar plot"
   ]
  },
  {
   "cell_type": "code",
   "execution_count": 8,
   "id": "e578a3ea",
   "metadata": {
    "ExecuteTime": {
     "end_time": "2023-12-27T20:26:46.897727Z",
     "start_time": "2023-12-27T20:26:46.881167Z"
    }
   },
   "outputs": [],
   "source": [
    "dfMem = dfMembers[['newNames', 'jobTitles', 'party']]"
   ]
  },
  {
   "cell_type": "code",
   "execution_count": 9,
   "id": "95bede84",
   "metadata": {
    "ExecuteTime": {
     "end_time": "2023-12-27T20:26:49.034595Z",
     "start_time": "2023-12-27T20:26:49.015604Z"
    }
   },
   "outputs": [],
   "source": [
    "# merge two datasets\n",
    "dfTable3 = pd.merge(dfMem, dfTable2, left_on= 'newNames', right_on = 'name', how = 'inner' )"
   ]
  },
  {
   "cell_type": "code",
   "execution_count": 10,
   "id": "befe39ca",
   "metadata": {
    "ExecuteTime": {
     "end_time": "2023-12-27T20:26:49.922833Z",
     "start_time": "2023-12-27T20:26:49.911790Z"
    }
   },
   "outputs": [
    {
     "data": {
      "text/plain": [
       "875"
      ]
     },
     "execution_count": 10,
     "metadata": {},
     "output_type": "execute_result"
    }
   ],
   "source": [
    "len(dfTable3)"
   ]
  },
  {
   "cell_type": "code",
   "execution_count": 11,
   "id": "eb1a1a50",
   "metadata": {
    "ExecuteTime": {
     "end_time": "2023-12-27T20:26:51.393873Z",
     "start_time": "2023-12-27T20:26:51.382084Z"
    }
   },
   "outputs": [],
   "source": [
    "# remove independents; note that I skipped dfTable4\n",
    "dfTable5 = dfTable3[dfTable3['party'] != 'Independent'].reset_index(drop = True)"
   ]
  },
  {
   "cell_type": "code",
   "execution_count": 12,
   "id": "a960c22c",
   "metadata": {
    "ExecuteTime": {
     "end_time": "2023-12-27T20:26:52.517494Z",
     "start_time": "2023-12-27T20:26:52.505558Z"
    }
   },
   "outputs": [
    {
     "data": {
      "text/plain": [
       "872"
      ]
     },
     "execution_count": 12,
     "metadata": {},
     "output_type": "execute_result"
    }
   ],
   "source": [
    "len(dfTable5)"
   ]
  },
  {
   "cell_type": "code",
   "execution_count": 13,
   "id": "7e221c89",
   "metadata": {
    "ExecuteTime": {
     "end_time": "2023-12-27T20:26:54.105789Z",
     "start_time": "2023-12-27T20:26:54.081477Z"
    }
   },
   "outputs": [],
   "source": [
    "# assign values \n",
    "def assignValue(df):\n",
    "    if df['party'] == 'Democratic' and df['jobTitles'] == 'represent':\n",
    "        return 0  # assign 0 to reprsentatives among democrats\n",
    "    elif df['party'] == 'Democratic' and df['jobTitles'] == 'senator':\n",
    "        return 1  # assign 1 to senator among democrats\n",
    "    elif df['party'] == 'Republican' and df['jobTitles'] == 'represent':\n",
    "        return 2 # assign 2 to representatives among republicans\n",
    "    elif df['party'] == 'Republican' and df['jobTitles'] == 'senator':\n",
    "        return 3  # assign 3 to senators among republicans \n",
    "\n",
    "# apply function to each row axis = 1\n",
    "dfTable5['plotCategory'] = dfTable5.apply(assignValue, axis = 1)"
   ]
  },
  {
   "cell_type": "code",
   "execution_count": 14,
   "id": "3eba24c2",
   "metadata": {
    "ExecuteTime": {
     "end_time": "2023-12-27T20:26:55.956249Z",
     "start_time": "2023-12-27T20:26:55.943550Z"
    }
   },
   "outputs": [],
   "source": [
    "dfTable6 = dfTable5.sort_values('plotCategory').reset_index(drop = True)"
   ]
  },
  {
   "cell_type": "code",
   "execution_count": 15,
   "id": "36fa60f6",
   "metadata": {
    "ExecuteTime": {
     "end_time": "2023-12-27T20:26:58.561085Z",
     "start_time": "2023-12-27T20:26:58.549450Z"
    }
   },
   "outputs": [],
   "source": [
    "dfTable6['sumBlueRed'] = dfTable6['blue'] + dfTable6['red']"
   ]
  },
  {
   "cell_type": "code",
   "execution_count": 17,
   "id": "9c5ddecb",
   "metadata": {
    "ExecuteTime": {
     "end_time": "2023-12-27T20:27:25.540669Z",
     "start_time": "2023-12-27T20:27:25.521430Z"
    },
    "scrolled": true
   },
   "outputs": [
    {
     "data": {
      "text/html": [
       "<div>\n",
       "<style scoped>\n",
       "    .dataframe tbody tr th:only-of-type {\n",
       "        vertical-align: middle;\n",
       "    }\n",
       "\n",
       "    .dataframe tbody tr th {\n",
       "        vertical-align: top;\n",
       "    }\n",
       "\n",
       "    .dataframe thead th {\n",
       "        text-align: right;\n",
       "    }\n",
       "</style>\n",
       "<table border=\"1\" class=\"dataframe\">\n",
       "  <thead>\n",
       "    <tr style=\"text-align: right;\">\n",
       "      <th></th>\n",
       "      <th>newNames</th>\n",
       "      <th>jobTitles</th>\n",
       "      <th>party</th>\n",
       "      <th>name</th>\n",
       "      <th>blue</th>\n",
       "      <th>red</th>\n",
       "      <th>plotCategory</th>\n",
       "      <th>sumBlueRed</th>\n",
       "    </tr>\n",
       "  </thead>\n",
       "  <tbody>\n",
       "    <tr>\n",
       "      <th>814</th>\n",
       "      <td>Mitt_Romney</td>\n",
       "      <td>senator</td>\n",
       "      <td>Republican</td>\n",
       "      <td>Mitt_Romney</td>\n",
       "      <td>347</td>\n",
       "      <td>74</td>\n",
       "      <td>3</td>\n",
       "      <td>421</td>\n",
       "    </tr>\n",
       "    <tr>\n",
       "      <th>465</th>\n",
       "      <td>Marjorie_Taylor_Greene</td>\n",
       "      <td>represent</td>\n",
       "      <td>Republican</td>\n",
       "      <td>Marjorie_Taylor_Greene</td>\n",
       "      <td>295</td>\n",
       "      <td>53</td>\n",
       "      <td>2</td>\n",
       "      <td>348</td>\n",
       "    </tr>\n",
       "    <tr>\n",
       "      <th>811</th>\n",
       "      <td>Ted_Cruz</td>\n",
       "      <td>senator</td>\n",
       "      <td>Republican</td>\n",
       "      <td>Ted_Cruz</td>\n",
       "      <td>267</td>\n",
       "      <td>60</td>\n",
       "      <td>3</td>\n",
       "      <td>327</td>\n",
       "    </tr>\n",
       "    <tr>\n",
       "      <th>341</th>\n",
       "      <td>Kamala_Harris</td>\n",
       "      <td>senator</td>\n",
       "      <td>Democratic</td>\n",
       "      <td>Kamala_Harris</td>\n",
       "      <td>253</td>\n",
       "      <td>41</td>\n",
       "      <td>1</td>\n",
       "      <td>294</td>\n",
       "    </tr>\n",
       "    <tr>\n",
       "      <th>829</th>\n",
       "      <td>Rand_Paul</td>\n",
       "      <td>senator</td>\n",
       "      <td>Republican</td>\n",
       "      <td>Rand_Paul</td>\n",
       "      <td>208</td>\n",
       "      <td>82</td>\n",
       "      <td>3</td>\n",
       "      <td>290</td>\n",
       "    </tr>\n",
       "    <tr>\n",
       "      <th>42</th>\n",
       "      <td>Alexandria_Ocasio-Cortez</td>\n",
       "      <td>represent</td>\n",
       "      <td>Democratic</td>\n",
       "      <td>Alexandria_Ocasio-Cortez</td>\n",
       "      <td>245</td>\n",
       "      <td>43</td>\n",
       "      <td>0</td>\n",
       "      <td>288</td>\n",
       "    </tr>\n",
       "    <tr>\n",
       "      <th>229</th>\n",
       "      <td>Nancy_Pelosi</td>\n",
       "      <td>represent</td>\n",
       "      <td>Democratic</td>\n",
       "      <td>Nancy_Pelosi</td>\n",
       "      <td>232</td>\n",
       "      <td>45</td>\n",
       "      <td>0</td>\n",
       "      <td>277</td>\n",
       "    </tr>\n",
       "    <tr>\n",
       "      <th>737</th>\n",
       "      <td>Ron_DeSantis</td>\n",
       "      <td>represent</td>\n",
       "      <td>Republican</td>\n",
       "      <td>Ron_DeSantis</td>\n",
       "      <td>133</td>\n",
       "      <td>122</td>\n",
       "      <td>2</td>\n",
       "      <td>255</td>\n",
       "    </tr>\n",
       "    <tr>\n",
       "      <th>446</th>\n",
       "      <td>Matt_Gaetz</td>\n",
       "      <td>represent</td>\n",
       "      <td>Republican</td>\n",
       "      <td>Matt_Gaetz</td>\n",
       "      <td>199</td>\n",
       "      <td>50</td>\n",
       "      <td>2</td>\n",
       "      <td>249</td>\n",
       "    </tr>\n",
       "    <tr>\n",
       "      <th>853</th>\n",
       "      <td>Jeff_Sessions</td>\n",
       "      <td>senator</td>\n",
       "      <td>Republican</td>\n",
       "      <td>Jeff_Sessions</td>\n",
       "      <td>215</td>\n",
       "      <td>31</td>\n",
       "      <td>3</td>\n",
       "      <td>246</td>\n",
       "    </tr>\n",
       "  </tbody>\n",
       "</table>\n",
       "</div>"
      ],
      "text/plain": [
       "                     newNames  jobTitles       party  \\\n",
       "814               Mitt_Romney    senator  Republican   \n",
       "465    Marjorie_Taylor_Greene  represent  Republican   \n",
       "811                  Ted_Cruz    senator  Republican   \n",
       "341             Kamala_Harris    senator  Democratic   \n",
       "829                 Rand_Paul    senator  Republican   \n",
       "42   Alexandria_Ocasio-Cortez  represent  Democratic   \n",
       "229              Nancy_Pelosi  represent  Democratic   \n",
       "737              Ron_DeSantis  represent  Republican   \n",
       "446                Matt_Gaetz  represent  Republican   \n",
       "853             Jeff_Sessions    senator  Republican   \n",
       "\n",
       "                         name  blue  red  plotCategory  sumBlueRed  \n",
       "814               Mitt_Romney   347   74             3         421  \n",
       "465    Marjorie_Taylor_Greene   295   53             2         348  \n",
       "811                  Ted_Cruz   267   60             3         327  \n",
       "341             Kamala_Harris   253   41             1         294  \n",
       "829                 Rand_Paul   208   82             3         290  \n",
       "42   Alexandria_Ocasio-Cortez   245   43             0         288  \n",
       "229              Nancy_Pelosi   232   45             0         277  \n",
       "737              Ron_DeSantis   133  122             2         255  \n",
       "446                Matt_Gaetz   199   50             2         249  \n",
       "853             Jeff_Sessions   215   31             3         246  "
      ]
     },
     "execution_count": 17,
     "metadata": {},
     "output_type": "execute_result"
    }
   ],
   "source": [
    "# I annotated the figure with texts based on the data below\n",
    "dfTable6.sort_values('sumBlueRed', ascending = False)[:10]"
   ]
  },
  {
   "cell_type": "code",
   "execution_count": 173,
   "id": "260e2c82",
   "metadata": {
    "ExecuteTime": {
     "end_time": "2023-12-27T02:10:55.797265Z",
     "start_time": "2023-12-27T02:10:55.782648Z"
    }
   },
   "outputs": [
    {
     "data": {
      "text/plain": [
       "330"
      ]
     },
     "execution_count": 173,
     "metadata": {},
     "output_type": "execute_result"
    }
   ],
   "source": [
    "len(dfTable6[dfTable6['plotCategory'] == 0])"
   ]
  },
  {
   "cell_type": "code",
   "execution_count": 174,
   "id": "ddcc4a3e",
   "metadata": {
    "ExecuteTime": {
     "end_time": "2023-12-27T02:11:17.016137Z",
     "start_time": "2023-12-27T02:11:16.998667Z"
    }
   },
   "outputs": [
    {
     "data": {
      "text/plain": [
       "60"
      ]
     },
     "execution_count": 174,
     "metadata": {},
     "output_type": "execute_result"
    }
   ],
   "source": [
    "len(dfTable6[dfTable6['plotCategory'] == 1])"
   ]
  },
  {
   "cell_type": "code",
   "execution_count": 175,
   "id": "5d266e24",
   "metadata": {
    "ExecuteTime": {
     "end_time": "2023-12-27T02:11:49.579086Z",
     "start_time": "2023-12-27T02:11:49.564605Z"
    }
   },
   "outputs": [
    {
     "data": {
      "text/plain": [
       "405"
      ]
     },
     "execution_count": 175,
     "metadata": {},
     "output_type": "execute_result"
    }
   ],
   "source": [
    "len(dfTable6[dfTable6['plotCategory'] == 2])"
   ]
  },
  {
   "cell_type": "code",
   "execution_count": 176,
   "id": "77777d49",
   "metadata": {
    "ExecuteTime": {
     "end_time": "2023-12-27T02:11:50.657323Z",
     "start_time": "2023-12-27T02:11:50.640480Z"
    }
   },
   "outputs": [
    {
     "data": {
      "text/plain": [
       "77"
      ]
     },
     "execution_count": 176,
     "metadata": {},
     "output_type": "execute_result"
    }
   ],
   "source": [
    "len(dfTable6[dfTable6['plotCategory'] == 3])"
   ]
  },
  {
   "cell_type": "code",
   "execution_count": 177,
   "id": "87c7e9bc",
   "metadata": {
    "ExecuteTime": {
     "end_time": "2023-12-27T02:12:13.344627Z",
     "start_time": "2023-12-27T02:12:13.331969Z"
    }
   },
   "outputs": [
    {
     "data": {
      "text/plain": [
       "872"
      ]
     },
     "execution_count": 177,
     "metadata": {},
     "output_type": "execute_result"
    }
   ],
   "source": [
    "330+60+405+77 "
   ]
  },
  {
   "cell_type": "code",
   "execution_count": null,
   "id": "45896450",
   "metadata": {},
   "outputs": [],
   "source": [
    "# 330 reprsent democrats\n",
    "# 60 senator democrats\n",
    "# 405 represent republican\n",
    "# 77 senator republican \n",
    "#dfTable6[dfTable6['plotCategory'] == 3]"
   ]
  },
  {
   "cell_type": "code",
   "execution_count": 178,
   "id": "a7ba100f",
   "metadata": {
    "ExecuteTime": {
     "end_time": "2023-12-27T02:14:05.850469Z",
     "start_time": "2023-12-27T02:14:04.289954Z"
    }
   },
   "outputs": [
    {
     "data": {
      "image/png": "[encoded data removed]",
      "text/plain": [
       "<Figure size 1500x800 with 1 Axes>"
      ]
     },
     "metadata": {},
     "output_type": "display_data"
    }
   ],
   "source": [
    "# democrats on the left; republicans on the right\n",
    "fig, ax = plt.subplots(figsize = (15, 8))\n",
    "\n",
    "names = list(dfTable6['newNames'])  \n",
    "blueSources = list(dfTable6['blue'])\n",
    "redSources = list(dfTable6['red'])\n",
    "\n",
    "# Calculate the positions for the bars for both layers\n",
    "x = np.arange(len(names))\n",
    "\n",
    "# Create the first layer of bars\n",
    "plt.bar(x, blueSources, label= 'Liberal Media Sources') #  color = 'blue'\n",
    "# Create the second layer of bars on top of the first layer\n",
    "plt.bar(x, redSources, bottom= blueSources, label='Conservative Media Sources', color = 'red')\n",
    "\n",
    "# Add labels \n",
    "plt.xlabel('')\n",
    "plt.ylabel('Frequency of News Citations', fontsize = 14)\n",
    "# 0-334 reprsent democrats; 334-394 senator democrats; 394 -803; the rest senator republican \n",
    "ax.axvline(x=330, linestyle='--', color='k')\n",
    "ax.axvline(x=390, linestyle='--', color='k')\n",
    "ax.axvline(x=795, linestyle='--', color='k')\n",
    "\n",
    "# add a legend\n",
    "plt.legend(fontsize = 14)\n",
    "# remove xticks \n",
    "plt.xticks([])\n",
    "plt.yticks(np.arange(0,360,50))\n",
    "#remove spines\n",
    "ax.spines['right'].set_visible(False)\n",
    "ax.spines['top'].set_visible(False)\n",
    "\n",
    "# Show the plot or save it to a file\n",
    "#plt.savefig('.../frequencyCitations4.pdf')\n",
    "plt.show()"
   ]
  },
  {
   "cell_type": "code",
   "execution_count": null,
   "id": "d112eed3",
   "metadata": {},
   "outputs": [],
   "source": []
  },
  {
   "cell_type": "markdown",
   "id": "2dddd781",
   "metadata": {},
   "source": [
    "#### separate democrats and republicans "
   ]
  },
  {
   "cell_type": "markdown",
   "id": "dbdc534e",
   "metadata": {},
   "source": [
    "##### pages for democrats"
   ]
  },
  {
   "cell_type": "code",
   "execution_count": 181,
   "id": "37aa8aa6",
   "metadata": {
    "ExecuteTime": {
     "end_time": "2023-12-27T02:16:55.443804Z",
     "start_time": "2023-12-27T02:16:55.425366Z"
    }
   },
   "outputs": [],
   "source": [
    "dfTable_dem = dfTable6[dfTable6['party'] == 'Democratic']"
   ]
  },
  {
   "cell_type": "code",
   "execution_count": 182,
   "id": "750ef25a",
   "metadata": {
    "ExecuteTime": {
     "end_time": "2023-12-27T02:17:08.154412Z",
     "start_time": "2023-12-27T02:17:08.132102Z"
    }
   },
   "outputs": [
    {
     "data": {
      "text/html": [
       "<div>\n",
       "<style scoped>\n",
       "    .dataframe tbody tr th:only-of-type {\n",
       "        vertical-align: middle;\n",
       "    }\n",
       "\n",
       "    .dataframe tbody tr th {\n",
       "        vertical-align: top;\n",
       "    }\n",
       "\n",
       "    .dataframe thead th {\n",
       "        text-align: right;\n",
       "    }\n",
       "</style>\n",
       "<table border=\"1\" class=\"dataframe\">\n",
       "  <thead>\n",
       "    <tr style=\"text-align: right;\">\n",
       "      <th></th>\n",
       "      <th>newNames</th>\n",
       "      <th>jobTitles</th>\n",
       "      <th>party</th>\n",
       "      <th>name</th>\n",
       "      <th>blue</th>\n",
       "      <th>red</th>\n",
       "      <th>plotCategory</th>\n",
       "      <th>sumBlueRed</th>\n",
       "    </tr>\n",
       "  </thead>\n",
       "  <tbody>\n",
       "    <tr>\n",
       "      <th>0</th>\n",
       "      <td>Ann_Kirkpatrick</td>\n",
       "      <td>represent</td>\n",
       "      <td>Democratic</td>\n",
       "      <td>Ann_Kirkpatrick</td>\n",
       "      <td>36</td>\n",
       "      <td>32</td>\n",
       "      <td>0</td>\n",
       "      <td>68</td>\n",
       "    </tr>\n",
       "    <tr>\n",
       "      <th>1</th>\n",
       "      <td>Mikie_Sherrill</td>\n",
       "      <td>represent</td>\n",
       "      <td>Democratic</td>\n",
       "      <td>Mikie_Sherrill</td>\n",
       "      <td>38</td>\n",
       "      <td>4</td>\n",
       "      <td>0</td>\n",
       "      <td>42</td>\n",
       "    </tr>\n",
       "    <tr>\n",
       "      <th>2</th>\n",
       "      <td>Elissa_Slotkin</td>\n",
       "      <td>represent</td>\n",
       "      <td>Democratic</td>\n",
       "      <td>Elissa_Slotkin</td>\n",
       "      <td>34</td>\n",
       "      <td>7</td>\n",
       "      <td>0</td>\n",
       "      <td>41</td>\n",
       "    </tr>\n",
       "    <tr>\n",
       "      <th>3</th>\n",
       "      <td>Ted_Deutch</td>\n",
       "      <td>represent</td>\n",
       "      <td>Democratic</td>\n",
       "      <td>Ted_Deutch</td>\n",
       "      <td>15</td>\n",
       "      <td>10</td>\n",
       "      <td>0</td>\n",
       "      <td>25</td>\n",
       "    </tr>\n",
       "    <tr>\n",
       "      <th>4</th>\n",
       "      <td>John_Garamendi</td>\n",
       "      <td>represent</td>\n",
       "      <td>Democratic</td>\n",
       "      <td>John_Garamendi</td>\n",
       "      <td>27</td>\n",
       "      <td>5</td>\n",
       "      <td>0</td>\n",
       "      <td>32</td>\n",
       "    </tr>\n",
       "  </tbody>\n",
       "</table>\n",
       "</div>"
      ],
      "text/plain": [
       "          newNames  jobTitles       party             name  blue  red  \\\n",
       "0  Ann_Kirkpatrick  represent  Democratic  Ann_Kirkpatrick    36   32   \n",
       "1   Mikie_Sherrill  represent  Democratic   Mikie_Sherrill    38    4   \n",
       "2   Elissa_Slotkin  represent  Democratic   Elissa_Slotkin    34    7   \n",
       "3       Ted_Deutch  represent  Democratic       Ted_Deutch    15   10   \n",
       "4   John_Garamendi  represent  Democratic   John_Garamendi    27    5   \n",
       "\n",
       "   plotCategory  sumBlueRed  \n",
       "0             0          68  \n",
       "1             0          42  \n",
       "2             0          41  \n",
       "3             0          25  \n",
       "4             0          32  "
      ]
     },
     "execution_count": 182,
     "metadata": {},
     "output_type": "execute_result"
    }
   ],
   "source": [
    "dfTable_dem.head()"
   ]
  },
  {
   "cell_type": "code",
   "execution_count": 184,
   "id": "4a7ee930",
   "metadata": {
    "ExecuteTime": {
     "end_time": "2023-12-27T02:19:42.877003Z",
     "start_time": "2023-12-27T02:19:41.744020Z"
    }
   },
   "outputs": [
    {
     "data": {
      "image/png": "[encoded data removed]",
      "text/plain": [
       "<Figure size 1500x800 with 1 Axes>"
      ]
     },
     "metadata": {},
     "output_type": "display_data"
    }
   ],
   "source": [
    "# democrats on the left; republicans on the right\n",
    "fig, ax = plt.subplots(figsize = (15, 8))\n",
    "\n",
    "names = list(dfTable_dem['newNames'])  \n",
    "blueSources = list(dfTable_dem['blue'])\n",
    "redSources = list(dfTable_dem['red'])\n",
    "\n",
    "# Calculate the positions for the bars for both layers\n",
    "x = np.arange(len(names))\n",
    "\n",
    "# Create the first layer of bars\n",
    "plt.bar(x, blueSources, label= 'Liberal Media Sources') #  color = 'blue'\n",
    "# Create the second layer of bars on top of the first layer\n",
    "plt.bar(x, redSources, bottom= blueSources, label='Conservative Media Sources', color = 'red')\n",
    "\n",
    "# Add labels \n",
    "plt.xlabel('')\n",
    "plt.ylabel('Frequency of News Citations', fontsize = 14)\n",
    "# 0-334 reprsent democrats; 334-394 senator democrats; 394 -803; the rest senator republican \n",
    "ax.axvline(x=330, linestyle='--', color='k')\n",
    "#ax.axvline(x=390, linestyle='--', color='k')\n",
    "#ax.axvline(x=795, linestyle='--', color='k')\n",
    "\n",
    "# add a legend\n",
    "plt.legend(fontsize = 14)\n",
    "# remove xticks \n",
    "plt.xticks([])\n",
    "plt.yticks(np.arange(0,360,50))\n",
    "#remove spines\n",
    "ax.spines['right'].set_visible(False)\n",
    "ax.spines['top'].set_visible(False)\n",
    "\n",
    "# Show the plot or save it to a file\n",
    "#plt.savefig('.../frequencyCitations_dem.pdf')\n",
    "plt.show()"
   ]
  },
  {
   "cell_type": "code",
   "execution_count": null,
   "id": "1165af18",
   "metadata": {},
   "outputs": [],
   "source": []
  },
  {
   "cell_type": "markdown",
   "id": "f6962178",
   "metadata": {},
   "source": [
    "##### pages for republicans"
   ]
  },
  {
   "cell_type": "code",
   "execution_count": 185,
   "id": "48c9d7a1",
   "metadata": {
    "ExecuteTime": {
     "end_time": "2023-12-27T02:20:41.064923Z",
     "start_time": "2023-12-27T02:20:41.051742Z"
    }
   },
   "outputs": [],
   "source": [
    "dfTable_rep = dfTable6[dfTable6['party'] == 'Republican']"
   ]
  },
  {
   "cell_type": "code",
   "execution_count": 187,
   "id": "c339f6b9",
   "metadata": {
    "ExecuteTime": {
     "end_time": "2023-12-27T02:20:52.663090Z",
     "start_time": "2023-12-27T02:20:52.649168Z"
    }
   },
   "outputs": [
    {
     "data": {
      "text/plain": [
       "482"
      ]
     },
     "execution_count": 187,
     "metadata": {},
     "output_type": "execute_result"
    }
   ],
   "source": [
    "len(dfTable_rep)"
   ]
  },
  {
   "cell_type": "code",
   "execution_count": 186,
   "id": "9dbac357",
   "metadata": {
    "ExecuteTime": {
     "end_time": "2023-12-27T02:20:41.771859Z",
     "start_time": "2023-12-27T02:20:41.754014Z"
    }
   },
   "outputs": [
    {
     "data": {
      "text/html": [
       "<div>\n",
       "<style scoped>\n",
       "    .dataframe tbody tr th:only-of-type {\n",
       "        vertical-align: middle;\n",
       "    }\n",
       "\n",
       "    .dataframe tbody tr th {\n",
       "        vertical-align: top;\n",
       "    }\n",
       "\n",
       "    .dataframe thead th {\n",
       "        text-align: right;\n",
       "    }\n",
       "</style>\n",
       "<table border=\"1\" class=\"dataframe\">\n",
       "  <thead>\n",
       "    <tr style=\"text-align: right;\">\n",
       "      <th></th>\n",
       "      <th>newNames</th>\n",
       "      <th>jobTitles</th>\n",
       "      <th>party</th>\n",
       "      <th>name</th>\n",
       "      <th>blue</th>\n",
       "      <th>red</th>\n",
       "      <th>plotCategory</th>\n",
       "      <th>sumBlueRed</th>\n",
       "    </tr>\n",
       "  </thead>\n",
       "  <tbody>\n",
       "    <tr>\n",
       "      <th>390</th>\n",
       "      <td>Mary_Miller</td>\n",
       "      <td>represent</td>\n",
       "      <td>Republican</td>\n",
       "      <td>Mary_Miller</td>\n",
       "      <td>48</td>\n",
       "      <td>13</td>\n",
       "      <td>2</td>\n",
       "      <td>61</td>\n",
       "    </tr>\n",
       "    <tr>\n",
       "      <th>391</th>\n",
       "      <td>Debbie_Lesko</td>\n",
       "      <td>represent</td>\n",
       "      <td>Republican</td>\n",
       "      <td>Debbie_Lesko</td>\n",
       "      <td>32</td>\n",
       "      <td>24</td>\n",
       "      <td>2</td>\n",
       "      <td>56</td>\n",
       "    </tr>\n",
       "    <tr>\n",
       "      <th>392</th>\n",
       "      <td>Cory_Mills</td>\n",
       "      <td>represent</td>\n",
       "      <td>Republican</td>\n",
       "      <td>Cory_Mills</td>\n",
       "      <td>7</td>\n",
       "      <td>4</td>\n",
       "      <td>2</td>\n",
       "      <td>11</td>\n",
       "    </tr>\n",
       "    <tr>\n",
       "      <th>393</th>\n",
       "      <td>Max_Miller</td>\n",
       "      <td>represent</td>\n",
       "      <td>Republican</td>\n",
       "      <td>Max_Miller</td>\n",
       "      <td>19</td>\n",
       "      <td>3</td>\n",
       "      <td>2</td>\n",
       "      <td>22</td>\n",
       "    </tr>\n",
       "    <tr>\n",
       "      <th>394</th>\n",
       "      <td>Mariannette_Miller-Meeks</td>\n",
       "      <td>represent</td>\n",
       "      <td>Republican</td>\n",
       "      <td>Mariannette_Miller-Meeks</td>\n",
       "      <td>15</td>\n",
       "      <td>8</td>\n",
       "      <td>2</td>\n",
       "      <td>23</td>\n",
       "    </tr>\n",
       "  </tbody>\n",
       "</table>\n",
       "</div>"
      ],
      "text/plain": [
       "                     newNames  jobTitles       party  \\\n",
       "390               Mary_Miller  represent  Republican   \n",
       "391              Debbie_Lesko  represent  Republican   \n",
       "392                Cory_Mills  represent  Republican   \n",
       "393                Max_Miller  represent  Republican   \n",
       "394  Mariannette_Miller-Meeks  represent  Republican   \n",
       "\n",
       "                         name  blue  red  plotCategory  sumBlueRed  \n",
       "390               Mary_Miller    48   13             2          61  \n",
       "391              Debbie_Lesko    32   24             2          56  \n",
       "392                Cory_Mills     7    4             2          11  \n",
       "393                Max_Miller    19    3             2          22  \n",
       "394  Mariannette_Miller-Meeks    15    8             2          23  "
      ]
     },
     "execution_count": 186,
     "metadata": {},
     "output_type": "execute_result"
    }
   ],
   "source": [
    "dfTable_rep.head()"
   ]
  },
  {
   "cell_type": "code",
   "execution_count": 189,
   "id": "b13cdf07",
   "metadata": {
    "ExecuteTime": {
     "end_time": "2023-12-27T02:23:47.300335Z",
     "start_time": "2023-12-27T02:23:45.968635Z"
    },
    "scrolled": false
   },
   "outputs": [
    {
     "data": {
      "image/png": "[encoded data removed]",
      "text/plain": [
       "<Figure size 1500x800 with 1 Axes>"
      ]
     },
     "metadata": {},
     "output_type": "display_data"
    }
   ],
   "source": [
    "# democrats on the left; republicans on the right\n",
    "fig, ax = plt.subplots(figsize = (15, 8))\n",
    "\n",
    "names = list(dfTable_rep['newNames'])  \n",
    "blueSources = list(dfTable_rep['blue'])\n",
    "redSources = list(dfTable_rep['red'])\n",
    "\n",
    "# Calculate the positions for the bars for both layers\n",
    "x = np.arange(len(names))\n",
    "\n",
    "# Create the first layer of bars\n",
    "plt.bar(x, blueSources, label= 'Liberal Media Sources') #  color = 'blue'\n",
    "# Create the second layer of bars on top of the first layer\n",
    "plt.bar(x, redSources, bottom= blueSources, label='Conservative Media Sources', color = 'red')\n",
    "\n",
    "# Add labels \n",
    "plt.xlabel('')\n",
    "plt.ylabel('Frequency of News Citations', fontsize = 14)\n",
    "# 0-334 reprsent democrats; 334-394 senator democrats; 394 -803; the rest senator republican \n",
    "ax.axvline(x=405, linestyle='--', color='k')\n",
    "#ax.axvline(x=390, linestyle='--', color='k')\n",
    "#ax.axvline(x=795, linestyle='--', color='k')\n",
    "\n",
    "# add a legend\n",
    "plt.legend(fontsize = 14)\n",
    "# remove xticks \n",
    "plt.xticks([])\n",
    "plt.yticks(np.arange(0,360,50))\n",
    "#remove spines\n",
    "ax.spines['right'].set_visible(False)\n",
    "ax.spines['top'].set_visible(False)\n",
    "\n",
    "# Show the plot or save it to a file\n",
    "#plt.savefig('.../frequencyCitations_rep.pdf')\n",
    "plt.show()"
   ]
  },
  {
   "cell_type": "code",
   "execution_count": null,
   "id": "738e7ac7",
   "metadata": {},
   "outputs": [],
   "source": []
  },
  {
   "cell_type": "markdown",
   "id": "f06d1bd6",
   "metadata": {},
   "source": [
    "## one sample t test"
   ]
  },
  {
   "cell_type": "code",
   "execution_count": 18,
   "id": "91c3df8a",
   "metadata": {
    "ExecuteTime": {
     "end_time": "2023-12-27T21:43:13.125822Z",
     "start_time": "2023-12-27T21:43:13.106110Z"
    }
   },
   "outputs": [],
   "source": [
    "dfRegre = pd.read_csv('.../regressionTableUpdated2.csv')"
   ]
  },
  {
   "cell_type": "code",
   "execution_count": 19,
   "id": "b59ad893",
   "metadata": {
    "ExecuteTime": {
     "end_time": "2023-12-27T21:43:14.032849Z",
     "start_time": "2023-12-27T21:43:14.004898Z"
    }
   },
   "outputs": [
    {
     "data": {
      "text/html": [
       "<div>\n",
       "<style scoped>\n",
       "    .dataframe tbody tr th:only-of-type {\n",
       "        vertical-align: middle;\n",
       "    }\n",
       "\n",
       "    .dataframe tbody tr th {\n",
       "        vertical-align: top;\n",
       "    }\n",
       "\n",
       "    .dataframe thead th {\n",
       "        text-align: right;\n",
       "    }\n",
       "</style>\n",
       "<table border=\"1\" class=\"dataframe\">\n",
       "  <thead>\n",
       "    <tr style=\"text-align: right;\">\n",
       "      <th></th>\n",
       "      <th>newNames</th>\n",
       "      <th>biasWithoutSum</th>\n",
       "      <th>biasWithoutSum_zscore</th>\n",
       "      <th>partyDummy</th>\n",
       "      <th>genderDummy</th>\n",
       "      <th>jobDummy</th>\n",
       "      <th>age_zscore</th>\n",
       "      <th>monthlyEdit_zscore</th>\n",
       "      <th>pageviews</th>\n",
       "      <th>editors</th>\n",
       "      <th>...</th>\n",
       "      <th>outLink_zscore</th>\n",
       "      <th>inLink_zscore</th>\n",
       "      <th>unique_references_zscore</th>\n",
       "      <th>words_zscore</th>\n",
       "      <th>characters_zscore</th>\n",
       "      <th>editors_zscore</th>\n",
       "      <th>pageviews_zscore</th>\n",
       "      <th>gini_index</th>\n",
       "      <th>gini_zscore</th>\n",
       "      <th>wordHuman_zscore</th>\n",
       "    </tr>\n",
       "  </thead>\n",
       "  <tbody>\n",
       "    <tr>\n",
       "      <th>0</th>\n",
       "      <td>Chuck_Grassley</td>\n",
       "      <td>-0.442177</td>\n",
       "      <td>0.292297</td>\n",
       "      <td>1</td>\n",
       "      <td>1</td>\n",
       "      <td>1</td>\n",
       "      <td>2.270586</td>\n",
       "      <td>0.576590</td>\n",
       "      <td>41643</td>\n",
       "      <td>939</td>\n",
       "      <td>...</td>\n",
       "      <td>1.487689</td>\n",
       "      <td>1.471997</td>\n",
       "      <td>1.591714</td>\n",
       "      <td>1.702650</td>\n",
       "      <td>1.760030</td>\n",
       "      <td>1.576381</td>\n",
       "      <td>1.275870</td>\n",
       "      <td>0.440365</td>\n",
       "      <td>-0.346172</td>\n",
       "      <td>-0.315371</td>\n",
       "    </tr>\n",
       "    <tr>\n",
       "      <th>1</th>\n",
       "      <td>Mitch_McConnell</td>\n",
       "      <td>-0.637363</td>\n",
       "      <td>-0.286548</td>\n",
       "      <td>1</td>\n",
       "      <td>1</td>\n",
       "      <td>1</td>\n",
       "      <td>1.560672</td>\n",
       "      <td>2.928292</td>\n",
       "      <td>49461</td>\n",
       "      <td>1937</td>\n",
       "      <td>...</td>\n",
       "      <td>2.506149</td>\n",
       "      <td>4.148224</td>\n",
       "      <td>2.433294</td>\n",
       "      <td>2.076332</td>\n",
       "      <td>2.149130</td>\n",
       "      <td>4.312472</td>\n",
       "      <td>1.589072</td>\n",
       "      <td>0.563755</td>\n",
       "      <td>1.359692</td>\n",
       "      <td>1.050987</td>\n",
       "    </tr>\n",
       "    <tr>\n",
       "      <th>2</th>\n",
       "      <td>Dianne_Feinstein</td>\n",
       "      <td>-0.592920</td>\n",
       "      <td>-0.154750</td>\n",
       "      <td>0</td>\n",
       "      <td>0</td>\n",
       "      <td>1</td>\n",
       "      <td>2.270586</td>\n",
       "      <td>0.937662</td>\n",
       "      <td>65884</td>\n",
       "      <td>1942</td>\n",
       "      <td>...</td>\n",
       "      <td>2.154956</td>\n",
       "      <td>2.759522</td>\n",
       "      <td>2.027532</td>\n",
       "      <td>1.653865</td>\n",
       "      <td>1.708176</td>\n",
       "      <td>4.326180</td>\n",
       "      <td>2.247004</td>\n",
       "      <td>0.508476</td>\n",
       "      <td>0.595465</td>\n",
       "      <td>0.786341</td>\n",
       "    </tr>\n",
       "    <tr>\n",
       "      <th>3</th>\n",
       "      <td>Patty_Murray</td>\n",
       "      <td>-0.814815</td>\n",
       "      <td>-0.812802</td>\n",
       "      <td>0</td>\n",
       "      <td>0</td>\n",
       "      <td>1</td>\n",
       "      <td>0.929637</td>\n",
       "      <td>-0.103632</td>\n",
       "      <td>19482</td>\n",
       "      <td>716</td>\n",
       "      <td>...</td>\n",
       "      <td>0.406015</td>\n",
       "      <td>1.099031</td>\n",
       "      <td>0.118950</td>\n",
       "      <td>0.554948</td>\n",
       "      <td>0.562194</td>\n",
       "      <td>0.965009</td>\n",
       "      <td>0.388064</td>\n",
       "      <td>0.422880</td>\n",
       "      <td>-0.587901</td>\n",
       "      <td>-0.159746</td>\n",
       "    </tr>\n",
       "    <tr>\n",
       "      <th>4</th>\n",
       "      <td>Ron_Wyden</td>\n",
       "      <td>-0.803030</td>\n",
       "      <td>-0.777854</td>\n",
       "      <td>0</td>\n",
       "      <td>1</td>\n",
       "      <td>1</td>\n",
       "      <td>1.008516</td>\n",
       "      <td>-0.140145</td>\n",
       "      <td>9819</td>\n",
       "      <td>655</td>\n",
       "      <td>...</td>\n",
       "      <td>1.115425</td>\n",
       "      <td>0.970080</td>\n",
       "      <td>1.396348</td>\n",
       "      <td>2.540543</td>\n",
       "      <td>2.540073</td>\n",
       "      <td>0.797773</td>\n",
       "      <td>0.000949</td>\n",
       "      <td>0.434123</td>\n",
       "      <td>-0.432461</td>\n",
       "      <td>-0.114248</td>\n",
       "    </tr>\n",
       "  </tbody>\n",
       "</table>\n",
       "<p>5 rows × 27 columns</p>\n",
       "</div>"
      ],
      "text/plain": [
       "           newNames  biasWithoutSum  biasWithoutSum_zscore  partyDummy  \\\n",
       "0    Chuck_Grassley       -0.442177               0.292297           1   \n",
       "1   Mitch_McConnell       -0.637363              -0.286548           1   \n",
       "2  Dianne_Feinstein       -0.592920              -0.154750           0   \n",
       "3      Patty_Murray       -0.814815              -0.812802           0   \n",
       "4         Ron_Wyden       -0.803030              -0.777854           0   \n",
       "\n",
       "   genderDummy  jobDummy  age_zscore  monthlyEdit_zscore  pageviews  editors  \\\n",
       "0            1         1    2.270586            0.576590      41643      939   \n",
       "1            1         1    1.560672            2.928292      49461     1937   \n",
       "2            0         1    2.270586            0.937662      65884     1942   \n",
       "3            0         1    0.929637           -0.103632      19482      716   \n",
       "4            1         1    1.008516           -0.140145       9819      655   \n",
       "\n",
       "   ... outLink_zscore  inLink_zscore  unique_references_zscore  words_zscore  \\\n",
       "0  ...       1.487689       1.471997                  1.591714      1.702650   \n",
       "1  ...       2.506149       4.148224                  2.433294      2.076332   \n",
       "2  ...       2.154956       2.759522                  2.027532      1.653865   \n",
       "3  ...       0.406015       1.099031                  0.118950      0.554948   \n",
       "4  ...       1.115425       0.970080                  1.396348      2.540543   \n",
       "\n",
       "   characters_zscore  editors_zscore  pageviews_zscore  gini_index  \\\n",
       "0           1.760030        1.576381          1.275870    0.440365   \n",
       "1           2.149130        4.312472          1.589072    0.563755   \n",
       "2           1.708176        4.326180          2.247004    0.508476   \n",
       "3           0.562194        0.965009          0.388064    0.422880   \n",
       "4           2.540073        0.797773          0.000949    0.434123   \n",
       "\n",
       "   gini_zscore  wordHuman_zscore  \n",
       "0    -0.346172         -0.315371  \n",
       "1     1.359692          1.050987  \n",
       "2     0.595465          0.786341  \n",
       "3    -0.587901         -0.159746  \n",
       "4    -0.432461         -0.114248  \n",
       "\n",
       "[5 rows x 27 columns]"
      ]
     },
     "execution_count": 19,
     "metadata": {},
     "output_type": "execute_result"
    }
   ],
   "source": [
    "dfRegre.head()"
   ]
  },
  {
   "cell_type": "code",
   "execution_count": 20,
   "id": "0067627b",
   "metadata": {
    "ExecuteTime": {
     "end_time": "2023-12-27T21:43:22.783920Z",
     "start_time": "2023-12-27T21:43:22.772409Z"
    }
   },
   "outputs": [
    {
     "data": {
      "text/plain": [
       "872"
      ]
     },
     "execution_count": 20,
     "metadata": {},
     "output_type": "execute_result"
    }
   ],
   "source": [
    "# three independents are removed. \n",
    "len(dfRegre)"
   ]
  },
  {
   "cell_type": "code",
   "execution_count": 11,
   "id": "e6887c20",
   "metadata": {
    "ExecuteTime": {
     "end_time": "2023-12-26T19:04:44.393254Z",
     "start_time": "2023-12-26T19:04:44.372507Z"
    }
   },
   "outputs": [
    {
     "data": {
      "text/html": [
       "<div>\n",
       "<style scoped>\n",
       "    .dataframe tbody tr th:only-of-type {\n",
       "        vertical-align: middle;\n",
       "    }\n",
       "\n",
       "    .dataframe tbody tr th {\n",
       "        vertical-align: top;\n",
       "    }\n",
       "\n",
       "    .dataframe thead th {\n",
       "        text-align: right;\n",
       "    }\n",
       "</style>\n",
       "<table border=\"1\" class=\"dataframe\">\n",
       "  <thead>\n",
       "    <tr style=\"text-align: right;\">\n",
       "      <th></th>\n",
       "      <th>Unnamed: 0</th>\n",
       "      <th>names</th>\n",
       "      <th>urlTail</th>\n",
       "      <th>party</th>\n",
       "      <th>states</th>\n",
       "      <th>jobTitles</th>\n",
       "      <th>newNames</th>\n",
       "      <th>urlRefer</th>\n",
       "      <th>namesTalkPage</th>\n",
       "    </tr>\n",
       "  </thead>\n",
       "  <tbody>\n",
       "    <tr>\n",
       "      <th>0</th>\n",
       "      <td>0</td>\n",
       "      <td>Chuck Grassley</td>\n",
       "      <td>/wiki/Chuck_Grassley</td>\n",
       "      <td>Republican</td>\n",
       "      <td>Iowa</td>\n",
       "      <td>senator</td>\n",
       "      <td>Chuck_Grassley</td>\n",
       "      <td>https://en.wikipedia.org/w/index.php?title=Chu...</td>\n",
       "      <td>Chuck_Grassley</td>\n",
       "    </tr>\n",
       "    <tr>\n",
       "      <th>1</th>\n",
       "      <td>1</td>\n",
       "      <td>Mitch McConnell</td>\n",
       "      <td>/wiki/Mitch_McConnell</td>\n",
       "      <td>Republican</td>\n",
       "      <td>Kentucky</td>\n",
       "      <td>senator</td>\n",
       "      <td>Mitch_McConnell</td>\n",
       "      <td>https://en.wikipedia.org/w/index.php?title=Mit...</td>\n",
       "      <td>Mitch_McConnell</td>\n",
       "    </tr>\n",
       "    <tr>\n",
       "      <th>2</th>\n",
       "      <td>2</td>\n",
       "      <td>Dianne Feinstein</td>\n",
       "      <td>/wiki/Dianne_Feinstein</td>\n",
       "      <td>Democratic</td>\n",
       "      <td>California</td>\n",
       "      <td>senator</td>\n",
       "      <td>Dianne_Feinstein</td>\n",
       "      <td>https://en.wikipedia.org/w/index.php?title=Dia...</td>\n",
       "      <td>Dianne_Feinstein</td>\n",
       "    </tr>\n",
       "    <tr>\n",
       "      <th>3</th>\n",
       "      <td>3</td>\n",
       "      <td>Patty Murray</td>\n",
       "      <td>/wiki/Patty_Murray</td>\n",
       "      <td>Democratic</td>\n",
       "      <td>Washington</td>\n",
       "      <td>senator</td>\n",
       "      <td>Patty_Murray</td>\n",
       "      <td>https://en.wikipedia.org/w/index.php?title=Pat...</td>\n",
       "      <td>Patty_Murray</td>\n",
       "    </tr>\n",
       "    <tr>\n",
       "      <th>4</th>\n",
       "      <td>4</td>\n",
       "      <td>Ron Wyden</td>\n",
       "      <td>/wiki/Ron_Wyden</td>\n",
       "      <td>Democratic</td>\n",
       "      <td>Oregon</td>\n",
       "      <td>senator</td>\n",
       "      <td>Ron_Wyden</td>\n",
       "      <td>https://en.wikipedia.org/w/index.php?title=Ron...</td>\n",
       "      <td>Ron_Wyden</td>\n",
       "    </tr>\n",
       "  </tbody>\n",
       "</table>\n",
       "</div>"
      ],
      "text/plain": [
       "   Unnamed: 0             names                 urlTail       party  \\\n",
       "0           0    Chuck Grassley    /wiki/Chuck_Grassley  Republican   \n",
       "1           1   Mitch McConnell   /wiki/Mitch_McConnell  Republican   \n",
       "2           2  Dianne Feinstein  /wiki/Dianne_Feinstein  Democratic   \n",
       "3           3      Patty Murray      /wiki/Patty_Murray  Democratic   \n",
       "4           4         Ron Wyden         /wiki/Ron_Wyden  Democratic   \n",
       "\n",
       "       states jobTitles          newNames  \\\n",
       "0        Iowa   senator    Chuck_Grassley   \n",
       "1    Kentucky   senator   Mitch_McConnell   \n",
       "2  California   senator  Dianne_Feinstein   \n",
       "3  Washington   senator      Patty_Murray   \n",
       "4      Oregon   senator         Ron_Wyden   \n",
       "\n",
       "                                            urlRefer     namesTalkPage  \n",
       "0  https://en.wikipedia.org/w/index.php?title=Chu...    Chuck_Grassley  \n",
       "1  https://en.wikipedia.org/w/index.php?title=Mit...   Mitch_McConnell  \n",
       "2  https://en.wikipedia.org/w/index.php?title=Dia...  Dianne_Feinstein  \n",
       "3  https://en.wikipedia.org/w/index.php?title=Pat...      Patty_Murray  \n",
       "4  https://en.wikipedia.org/w/index.php?title=Ron...         Ron_Wyden  "
      ]
     },
     "execution_count": 11,
     "metadata": {},
     "output_type": "execute_result"
    }
   ],
   "source": [
    "dfMembers.head()"
   ]
  },
  {
   "cell_type": "code",
   "execution_count": 25,
   "id": "e6972fa6",
   "metadata": {
    "ExecuteTime": {
     "end_time": "2023-12-27T21:47:26.165783Z",
     "start_time": "2023-12-27T21:47:26.102208Z"
    }
   },
   "outputs": [
    {
     "data": {
      "text/plain": [
       "[]"
      ]
     },
     "execution_count": 25,
     "metadata": {},
     "output_type": "execute_result"
    }
   ],
   "source": [
    "# I checked that the regression table doesn't contain mulitple pages of the same politicisn\n",
    "[i for i in list(dfRegre['newNames']) if i not in list(dfMembers['newNames'])]"
   ]
  },
  {
   "cell_type": "code",
   "execution_count": 26,
   "id": "e55f85e0",
   "metadata": {
    "ExecuteTime": {
     "end_time": "2023-12-27T21:48:42.756744Z",
     "start_time": "2023-12-27T21:48:42.691569Z"
    }
   },
   "outputs": [
    {
     "data": {
      "text/plain": [
       "['Bernie_Sanders', 'Angus_King', 'Kyrsten_Sinema']"
      ]
     },
     "execution_count": 26,
     "metadata": {},
     "output_type": "execute_result"
    }
   ],
   "source": [
    "# I checked that the regression table doesn't contain mulitple pages of the same politicisn\n",
    "[i for i in list(dfMembers['newNames']) if i not in list(dfRegre['newNames'])]"
   ]
  },
  {
   "cell_type": "code",
   "execution_count": 27,
   "id": "664873aa",
   "metadata": {
    "ExecuteTime": {
     "end_time": "2023-12-27T21:49:31.588868Z",
     "start_time": "2023-12-27T21:49:31.571824Z"
    }
   },
   "outputs": [
    {
     "data": {
      "text/html": [
       "<div>\n",
       "<style scoped>\n",
       "    .dataframe tbody tr th:only-of-type {\n",
       "        vertical-align: middle;\n",
       "    }\n",
       "\n",
       "    .dataframe tbody tr th {\n",
       "        vertical-align: top;\n",
       "    }\n",
       "\n",
       "    .dataframe thead th {\n",
       "        text-align: right;\n",
       "    }\n",
       "</style>\n",
       "<table border=\"1\" class=\"dataframe\">\n",
       "  <thead>\n",
       "    <tr style=\"text-align: right;\">\n",
       "      <th></th>\n",
       "      <th>Unnamed: 0</th>\n",
       "      <th>names</th>\n",
       "      <th>urlTail</th>\n",
       "      <th>party</th>\n",
       "      <th>states</th>\n",
       "      <th>jobTitles</th>\n",
       "      <th>newNames</th>\n",
       "      <th>urlRefer</th>\n",
       "      <th>namesTalkPage</th>\n",
       "    </tr>\n",
       "  </thead>\n",
       "  <tbody>\n",
       "    <tr>\n",
       "      <th>49</th>\n",
       "      <td>49</td>\n",
       "      <td>Angus King</td>\n",
       "      <td>/wiki/Angus_King</td>\n",
       "      <td>Independent</td>\n",
       "      <td>Maine</td>\n",
       "      <td>senator</td>\n",
       "      <td>Angus_King</td>\n",
       "      <td>https://en.wikipedia.org/w/index.php?title=Ang...</td>\n",
       "      <td>Angus_King</td>\n",
       "    </tr>\n",
       "  </tbody>\n",
       "</table>\n",
       "</div>"
      ],
      "text/plain": [
       "    Unnamed: 0       names           urlTail        party states jobTitles  \\\n",
       "49          49  Angus King  /wiki/Angus_King  Independent  Maine   senator   \n",
       "\n",
       "      newNames                                           urlRefer  \\\n",
       "49  Angus_King  https://en.wikipedia.org/w/index.php?title=Ang...   \n",
       "\n",
       "   namesTalkPage  \n",
       "49    Angus_King  "
      ]
     },
     "execution_count": 27,
     "metadata": {},
     "output_type": "execute_result"
    }
   ],
   "source": [
    "dfMembers[dfMembers['newNames'] == 'Angus_King']"
   ]
  },
  {
   "cell_type": "code",
   "execution_count": 8,
   "id": "5b72785c",
   "metadata": {
    "ExecuteTime": {
     "end_time": "2023-10-01T21:12:49.137810Z",
     "start_time": "2023-10-01T21:12:49.129743Z"
    }
   },
   "outputs": [],
   "source": [
    "#dfRegre['biasWithoutSum'].describe()"
   ]
  },
  {
   "cell_type": "code",
   "execution_count": 12,
   "id": "06d88f5f",
   "metadata": {
    "ExecuteTime": {
     "end_time": "2023-10-01T21:15:28.722356Z",
     "start_time": "2023-10-01T21:15:28.712203Z"
    }
   },
   "outputs": [],
   "source": [
    "biasList = list(dfRegre['biasWithoutSum'])"
   ]
  },
  {
   "cell_type": "code",
   "execution_count": 16,
   "id": "ead9d8ac",
   "metadata": {
    "ExecuteTime": {
     "end_time": "2023-10-01T23:58:23.380744Z",
     "start_time": "2023-10-01T23:58:23.370007Z"
    }
   },
   "outputs": [],
   "source": [
    "mean = ss.mean(biasList)"
   ]
  },
  {
   "cell_type": "code",
   "execution_count": 17,
   "id": "67666947",
   "metadata": {
    "ExecuteTime": {
     "end_time": "2023-10-01T23:58:54.360548Z",
     "start_time": "2023-10-01T23:58:54.345932Z"
    }
   },
   "outputs": [],
   "source": [
    "std = ss.stdev(biasList) "
   ]
  },
  {
   "cell_type": "code",
   "execution_count": 18,
   "id": "a1e72922",
   "metadata": {
    "ExecuteTime": {
     "end_time": "2023-10-01T23:59:03.055796Z",
     "start_time": "2023-10-01T23:59:03.042337Z"
    }
   },
   "outputs": [
    {
     "name": "stdout",
     "output_type": "stream",
     "text": [
      "-0.5399372669484336 0.33741956987666294\n"
     ]
    }
   ],
   "source": [
    "print(mean, std)"
   ]
  },
  {
   "cell_type": "code",
   "execution_count": 23,
   "id": "dacd82e3",
   "metadata": {
    "ExecuteTime": {
     "end_time": "2023-10-02T00:07:11.916276Z",
     "start_time": "2023-10-02T00:07:11.901624Z"
    }
   },
   "outputs": [
    {
     "data": {
      "text/plain": [
       "872"
      ]
     },
     "execution_count": 23,
     "metadata": {},
     "output_type": "execute_result"
    }
   ],
   "source": [
    "len(biasList)"
   ]
  },
  {
   "cell_type": "code",
   "execution_count": 13,
   "id": "52b00b41",
   "metadata": {
    "ExecuteTime": {
     "end_time": "2023-10-01T21:15:29.671039Z",
     "start_time": "2023-10-01T21:15:29.660350Z"
    }
   },
   "outputs": [],
   "source": [
    "population_mean = 0\n",
    "t_statistic, p_value = stats.ttest_1samp(biasList, population_mean)"
   ]
  },
  {
   "cell_type": "code",
   "execution_count": 14,
   "id": "6a30d286",
   "metadata": {
    "ExecuteTime": {
     "end_time": "2023-10-01T21:15:30.177016Z",
     "start_time": "2023-10-01T21:15:30.170762Z"
    }
   },
   "outputs": [
    {
     "name": "stdout",
     "output_type": "stream",
     "text": [
      "-47.25320593013419 1.4365830890468737e-242\n"
     ]
    }
   ],
   "source": [
    "print(t_statistic, p_value)"
   ]
  },
  {
   "cell_type": "code",
   "execution_count": null,
   "id": "1aa7bc04",
   "metadata": {},
   "outputs": [],
   "source": []
  },
  {
   "cell_type": "markdown",
   "id": "11995460",
   "metadata": {},
   "source": [
    "## regressions"
   ]
  },
  {
   "cell_type": "code",
   "execution_count": 3,
   "id": "a71ccc90",
   "metadata": {
    "ExecuteTime": {
     "end_time": "2023-09-29T19:15:30.787204Z",
     "start_time": "2023-09-29T19:15:30.774096Z"
    }
   },
   "outputs": [],
   "source": [
    "dfRegre.drop('wordHuman_zscore', axis = 1, inplace = True)"
   ]
  },
  {
   "cell_type": "code",
   "execution_count": 4,
   "id": "302a9479",
   "metadata": {
    "ExecuteTime": {
     "end_time": "2023-09-29T19:15:31.306566Z",
     "start_time": "2023-09-29T19:15:31.281052Z"
    }
   },
   "outputs": [
    {
     "data": {
      "text/html": [
       "<div>\n",
       "<style scoped>\n",
       "    .dataframe tbody tr th:only-of-type {\n",
       "        vertical-align: middle;\n",
       "    }\n",
       "\n",
       "    .dataframe tbody tr th {\n",
       "        vertical-align: top;\n",
       "    }\n",
       "\n",
       "    .dataframe thead th {\n",
       "        text-align: right;\n",
       "    }\n",
       "</style>\n",
       "<table border=\"1\" class=\"dataframe\">\n",
       "  <thead>\n",
       "    <tr style=\"text-align: right;\">\n",
       "      <th></th>\n",
       "      <th>newNames</th>\n",
       "      <th>biasWithoutSum</th>\n",
       "      <th>biasWithoutSum_zscore</th>\n",
       "      <th>partyDummy</th>\n",
       "      <th>genderDummy</th>\n",
       "      <th>jobDummy</th>\n",
       "      <th>age_zscore</th>\n",
       "      <th>monthlyEdit_zscore</th>\n",
       "      <th>pageviews</th>\n",
       "      <th>editors</th>\n",
       "      <th>...</th>\n",
       "      <th>assessValueDummy</th>\n",
       "      <th>outLink_zscore</th>\n",
       "      <th>inLink_zscore</th>\n",
       "      <th>unique_references_zscore</th>\n",
       "      <th>words_zscore</th>\n",
       "      <th>characters_zscore</th>\n",
       "      <th>editors_zscore</th>\n",
       "      <th>pageviews_zscore</th>\n",
       "      <th>gini_index</th>\n",
       "      <th>gini_zscore</th>\n",
       "    </tr>\n",
       "  </thead>\n",
       "  <tbody>\n",
       "    <tr>\n",
       "      <th>0</th>\n",
       "      <td>Chuck_Grassley</td>\n",
       "      <td>-0.442177</td>\n",
       "      <td>0.292297</td>\n",
       "      <td>1</td>\n",
       "      <td>1</td>\n",
       "      <td>1</td>\n",
       "      <td>2.270586</td>\n",
       "      <td>0.576590</td>\n",
       "      <td>41643</td>\n",
       "      <td>939</td>\n",
       "      <td>...</td>\n",
       "      <td>0</td>\n",
       "      <td>1.487689</td>\n",
       "      <td>1.471997</td>\n",
       "      <td>1.591714</td>\n",
       "      <td>1.702650</td>\n",
       "      <td>1.760030</td>\n",
       "      <td>1.576381</td>\n",
       "      <td>1.275870</td>\n",
       "      <td>0.440365</td>\n",
       "      <td>-0.346172</td>\n",
       "    </tr>\n",
       "    <tr>\n",
       "      <th>1</th>\n",
       "      <td>Mitch_McConnell</td>\n",
       "      <td>-0.637363</td>\n",
       "      <td>-0.286548</td>\n",
       "      <td>1</td>\n",
       "      <td>1</td>\n",
       "      <td>1</td>\n",
       "      <td>1.560672</td>\n",
       "      <td>2.928292</td>\n",
       "      <td>49461</td>\n",
       "      <td>1937</td>\n",
       "      <td>...</td>\n",
       "      <td>1</td>\n",
       "      <td>2.506149</td>\n",
       "      <td>4.148224</td>\n",
       "      <td>2.433294</td>\n",
       "      <td>2.076332</td>\n",
       "      <td>2.149130</td>\n",
       "      <td>4.312472</td>\n",
       "      <td>1.589072</td>\n",
       "      <td>0.563755</td>\n",
       "      <td>1.359692</td>\n",
       "    </tr>\n",
       "    <tr>\n",
       "      <th>2</th>\n",
       "      <td>Dianne_Feinstein</td>\n",
       "      <td>-0.592920</td>\n",
       "      <td>-0.154750</td>\n",
       "      <td>0</td>\n",
       "      <td>0</td>\n",
       "      <td>1</td>\n",
       "      <td>2.270586</td>\n",
       "      <td>0.937662</td>\n",
       "      <td>65884</td>\n",
       "      <td>1942</td>\n",
       "      <td>...</td>\n",
       "      <td>1</td>\n",
       "      <td>2.154956</td>\n",
       "      <td>2.759522</td>\n",
       "      <td>2.027532</td>\n",
       "      <td>1.653865</td>\n",
       "      <td>1.708176</td>\n",
       "      <td>4.326180</td>\n",
       "      <td>2.247004</td>\n",
       "      <td>0.508476</td>\n",
       "      <td>0.595465</td>\n",
       "    </tr>\n",
       "    <tr>\n",
       "      <th>3</th>\n",
       "      <td>Patty_Murray</td>\n",
       "      <td>-0.814815</td>\n",
       "      <td>-0.812802</td>\n",
       "      <td>0</td>\n",
       "      <td>0</td>\n",
       "      <td>1</td>\n",
       "      <td>0.929637</td>\n",
       "      <td>-0.103632</td>\n",
       "      <td>19482</td>\n",
       "      <td>716</td>\n",
       "      <td>...</td>\n",
       "      <td>0</td>\n",
       "      <td>0.406015</td>\n",
       "      <td>1.099031</td>\n",
       "      <td>0.118950</td>\n",
       "      <td>0.554948</td>\n",
       "      <td>0.562194</td>\n",
       "      <td>0.965009</td>\n",
       "      <td>0.388064</td>\n",
       "      <td>0.422880</td>\n",
       "      <td>-0.587901</td>\n",
       "    </tr>\n",
       "    <tr>\n",
       "      <th>4</th>\n",
       "      <td>Ron_Wyden</td>\n",
       "      <td>-0.803030</td>\n",
       "      <td>-0.777854</td>\n",
       "      <td>0</td>\n",
       "      <td>1</td>\n",
       "      <td>1</td>\n",
       "      <td>1.008516</td>\n",
       "      <td>-0.140145</td>\n",
       "      <td>9819</td>\n",
       "      <td>655</td>\n",
       "      <td>...</td>\n",
       "      <td>1</td>\n",
       "      <td>1.115425</td>\n",
       "      <td>0.970080</td>\n",
       "      <td>1.396348</td>\n",
       "      <td>2.540543</td>\n",
       "      <td>2.540073</td>\n",
       "      <td>0.797773</td>\n",
       "      <td>0.000949</td>\n",
       "      <td>0.434123</td>\n",
       "      <td>-0.432461</td>\n",
       "    </tr>\n",
       "  </tbody>\n",
       "</table>\n",
       "<p>5 rows × 26 columns</p>\n",
       "</div>"
      ],
      "text/plain": [
       "           newNames  biasWithoutSum  biasWithoutSum_zscore  partyDummy  \\\n",
       "0    Chuck_Grassley       -0.442177               0.292297           1   \n",
       "1   Mitch_McConnell       -0.637363              -0.286548           1   \n",
       "2  Dianne_Feinstein       -0.592920              -0.154750           0   \n",
       "3      Patty_Murray       -0.814815              -0.812802           0   \n",
       "4         Ron_Wyden       -0.803030              -0.777854           0   \n",
       "\n",
       "   genderDummy  jobDummy  age_zscore  monthlyEdit_zscore  pageviews  editors  \\\n",
       "0            1         1    2.270586            0.576590      41643      939   \n",
       "1            1         1    1.560672            2.928292      49461     1937   \n",
       "2            0         1    2.270586            0.937662      65884     1942   \n",
       "3            0         1    0.929637           -0.103632      19482      716   \n",
       "4            1         1    1.008516           -0.140145       9819      655   \n",
       "\n",
       "   ... assessValueDummy  outLink_zscore  inLink_zscore  \\\n",
       "0  ...                0        1.487689       1.471997   \n",
       "1  ...                1        2.506149       4.148224   \n",
       "2  ...                1        2.154956       2.759522   \n",
       "3  ...                0        0.406015       1.099031   \n",
       "4  ...                1        1.115425       0.970080   \n",
       "\n",
       "   unique_references_zscore  words_zscore  characters_zscore  editors_zscore  \\\n",
       "0                  1.591714      1.702650           1.760030        1.576381   \n",
       "1                  2.433294      2.076332           2.149130        4.312472   \n",
       "2                  2.027532      1.653865           1.708176        4.326180   \n",
       "3                  0.118950      0.554948           0.562194        0.965009   \n",
       "4                  1.396348      2.540543           2.540073        0.797773   \n",
       "\n",
       "   pageviews_zscore  gini_index  gini_zscore  \n",
       "0          1.275870    0.440365    -0.346172  \n",
       "1          1.589072    0.563755     1.359692  \n",
       "2          2.247004    0.508476     0.595465  \n",
       "3          0.388064    0.422880    -0.587901  \n",
       "4          0.000949    0.434123    -0.432461  \n",
       "\n",
       "[5 rows x 26 columns]"
      ]
     },
     "execution_count": 4,
     "metadata": {},
     "output_type": "execute_result"
    }
   ],
   "source": [
    "dfRegre.head()"
   ]
  },
  {
   "cell_type": "code",
   "execution_count": 5,
   "id": "f66eeff2",
   "metadata": {
    "ExecuteTime": {
     "end_time": "2023-09-29T19:15:32.456327Z",
     "start_time": "2023-09-29T19:15:32.441155Z"
    }
   },
   "outputs": [
    {
     "data": {
      "text/plain": [
       "Index(['newNames', 'biasWithoutSum', 'biasWithoutSum_zscore', 'partyDummy',\n",
       "       'genderDummy', 'jobDummy', 'age_zscore', 'monthlyEdit_zscore',\n",
       "       'pageviews', 'editors', 'assessValue', 'characters', 'words',\n",
       "       'unique_references', 'links_out_count', 'links_in_count',\n",
       "       'assessValueDummy', 'outLink_zscore', 'inLink_zscore',\n",
       "       'unique_references_zscore', 'words_zscore', 'characters_zscore',\n",
       "       'editors_zscore', 'pageviews_zscore', 'gini_index', 'gini_zscore'],\n",
       "      dtype='object')"
      ]
     },
     "execution_count": 5,
     "metadata": {},
     "output_type": "execute_result"
    }
   ],
   "source": [
    "dfRegre.columns"
   ]
  },
  {
   "cell_type": "code",
   "execution_count": 6,
   "id": "a89e6672",
   "metadata": {
    "ExecuteTime": {
     "end_time": "2023-09-29T19:15:34.968072Z",
     "start_time": "2023-09-29T19:15:34.947855Z"
    }
   },
   "outputs": [],
   "source": [
    "dfTalkPage2 = pd.read_csv('.../talkPageMetricUpdated.csv')"
   ]
  },
  {
   "cell_type": "code",
   "execution_count": 7,
   "id": "6b4d16c2",
   "metadata": {
    "ExecuteTime": {
     "end_time": "2023-09-29T19:15:36.035925Z",
     "start_time": "2023-09-29T19:15:36.025092Z"
    }
   },
   "outputs": [],
   "source": [
    "dfTalkPage3 = dfTalkPage2[['newNames','namesTalkPage','wordHuman_zscore','wordHuBot_zscore',\n",
    "                          'letHuman_zscore', 'letHuBot_zscore', 'editorCount_zscore', 'editorCountHu_zscore',\n",
    "                          'letterCount_zscore', 'letNumCount_zscore', 'wordNumCount_zscore', 'wordCount_zscore',\n",
    "                          'editCount_zscore', 'editCountHu_zscore']]"
   ]
  },
  {
   "cell_type": "code",
   "execution_count": 8,
   "id": "4086ed8f",
   "metadata": {
    "ExecuteTime": {
     "end_time": "2023-09-29T19:15:37.822717Z",
     "start_time": "2023-09-29T19:15:37.808795Z"
    }
   },
   "outputs": [],
   "source": [
    "dfRegre2 = pd.merge(dfRegre, dfTalkPage3, on = 'newNames')"
   ]
  },
  {
   "cell_type": "code",
   "execution_count": 9,
   "id": "f9649551",
   "metadata": {
    "ExecuteTime": {
     "end_time": "2023-09-29T19:15:38.467616Z",
     "start_time": "2023-09-29T19:15:38.442572Z"
    }
   },
   "outputs": [
    {
     "data": {
      "text/html": [
       "<div>\n",
       "<style scoped>\n",
       "    .dataframe tbody tr th:only-of-type {\n",
       "        vertical-align: middle;\n",
       "    }\n",
       "\n",
       "    .dataframe tbody tr th {\n",
       "        vertical-align: top;\n",
       "    }\n",
       "\n",
       "    .dataframe thead th {\n",
       "        text-align: right;\n",
       "    }\n",
       "</style>\n",
       "<table border=\"1\" class=\"dataframe\">\n",
       "  <thead>\n",
       "    <tr style=\"text-align: right;\">\n",
       "      <th></th>\n",
       "      <th>newNames</th>\n",
       "      <th>biasWithoutSum</th>\n",
       "      <th>biasWithoutSum_zscore</th>\n",
       "      <th>partyDummy</th>\n",
       "      <th>genderDummy</th>\n",
       "      <th>jobDummy</th>\n",
       "      <th>age_zscore</th>\n",
       "      <th>monthlyEdit_zscore</th>\n",
       "      <th>pageviews</th>\n",
       "      <th>editors</th>\n",
       "      <th>...</th>\n",
       "      <th>letHuman_zscore</th>\n",
       "      <th>letHuBot_zscore</th>\n",
       "      <th>editorCount_zscore</th>\n",
       "      <th>editorCountHu_zscore</th>\n",
       "      <th>letterCount_zscore</th>\n",
       "      <th>letNumCount_zscore</th>\n",
       "      <th>wordNumCount_zscore</th>\n",
       "      <th>wordCount_zscore</th>\n",
       "      <th>editCount_zscore</th>\n",
       "      <th>editCountHu_zscore</th>\n",
       "    </tr>\n",
       "  </thead>\n",
       "  <tbody>\n",
       "    <tr>\n",
       "      <th>0</th>\n",
       "      <td>Chuck_Grassley</td>\n",
       "      <td>-0.442177</td>\n",
       "      <td>0.292297</td>\n",
       "      <td>1</td>\n",
       "      <td>1</td>\n",
       "      <td>1</td>\n",
       "      <td>2.270586</td>\n",
       "      <td>0.576590</td>\n",
       "      <td>41643</td>\n",
       "      <td>939</td>\n",
       "      <td>...</td>\n",
       "      <td>-0.306705</td>\n",
       "      <td>-0.257957</td>\n",
       "      <td>0.954943</td>\n",
       "      <td>0.953339</td>\n",
       "      <td>0.253704</td>\n",
       "      <td>0.260843</td>\n",
       "      <td>0.252277</td>\n",
       "      <td>0.242173</td>\n",
       "      <td>0.288408</td>\n",
       "      <td>0.278914</td>\n",
       "    </tr>\n",
       "    <tr>\n",
       "      <th>1</th>\n",
       "      <td>Mitch_McConnell</td>\n",
       "      <td>-0.637363</td>\n",
       "      <td>-0.286548</td>\n",
       "      <td>1</td>\n",
       "      <td>1</td>\n",
       "      <td>1</td>\n",
       "      <td>1.560672</td>\n",
       "      <td>2.928292</td>\n",
       "      <td>49461</td>\n",
       "      <td>1937</td>\n",
       "      <td>...</td>\n",
       "      <td>0.128567</td>\n",
       "      <td>0.091552</td>\n",
       "      <td>2.418913</td>\n",
       "      <td>2.401592</td>\n",
       "      <td>1.651702</td>\n",
       "      <td>1.648654</td>\n",
       "      <td>1.595855</td>\n",
       "      <td>1.602110</td>\n",
       "      <td>1.166569</td>\n",
       "      <td>0.997998</td>\n",
       "    </tr>\n",
       "    <tr>\n",
       "      <th>2</th>\n",
       "      <td>Dianne_Feinstein</td>\n",
       "      <td>-0.592920</td>\n",
       "      <td>-0.154750</td>\n",
       "      <td>0</td>\n",
       "      <td>0</td>\n",
       "      <td>1</td>\n",
       "      <td>2.270586</td>\n",
       "      <td>0.937662</td>\n",
       "      <td>65884</td>\n",
       "      <td>1942</td>\n",
       "      <td>...</td>\n",
       "      <td>0.698165</td>\n",
       "      <td>0.798954</td>\n",
       "      <td>2.044665</td>\n",
       "      <td>2.033782</td>\n",
       "      <td>1.620953</td>\n",
       "      <td>1.620428</td>\n",
       "      <td>1.595622</td>\n",
       "      <td>1.599487</td>\n",
       "      <td>0.672494</td>\n",
       "      <td>0.615109</td>\n",
       "    </tr>\n",
       "    <tr>\n",
       "      <th>3</th>\n",
       "      <td>Patty_Murray</td>\n",
       "      <td>-0.814815</td>\n",
       "      <td>-0.812802</td>\n",
       "      <td>0</td>\n",
       "      <td>0</td>\n",
       "      <td>1</td>\n",
       "      <td>0.929637</td>\n",
       "      <td>-0.103632</td>\n",
       "      <td>19482</td>\n",
       "      <td>716</td>\n",
       "      <td>...</td>\n",
       "      <td>-0.174975</td>\n",
       "      <td>-0.106084</td>\n",
       "      <td>0.096374</td>\n",
       "      <td>0.091283</td>\n",
       "      <td>-0.021156</td>\n",
       "      <td>-0.022174</td>\n",
       "      <td>-0.018398</td>\n",
       "      <td>-0.016794</td>\n",
       "      <td>-0.022353</td>\n",
       "      <td>-0.021794</td>\n",
       "    </tr>\n",
       "    <tr>\n",
       "      <th>4</th>\n",
       "      <td>Ron_Wyden</td>\n",
       "      <td>-0.803030</td>\n",
       "      <td>-0.777854</td>\n",
       "      <td>0</td>\n",
       "      <td>1</td>\n",
       "      <td>1</td>\n",
       "      <td>1.008516</td>\n",
       "      <td>-0.140145</td>\n",
       "      <td>9819</td>\n",
       "      <td>655</td>\n",
       "      <td>...</td>\n",
       "      <td>-0.172582</td>\n",
       "      <td>-0.148138</td>\n",
       "      <td>0.140403</td>\n",
       "      <td>0.125765</td>\n",
       "      <td>-0.084176</td>\n",
       "      <td>-0.084844</td>\n",
       "      <td>-0.089801</td>\n",
       "      <td>-0.089286</td>\n",
       "      <td>-0.069491</td>\n",
       "      <td>-0.074091</td>\n",
       "    </tr>\n",
       "  </tbody>\n",
       "</table>\n",
       "<p>5 rows × 39 columns</p>\n",
       "</div>"
      ],
      "text/plain": [
       "           newNames  biasWithoutSum  biasWithoutSum_zscore  partyDummy  \\\n",
       "0    Chuck_Grassley       -0.442177               0.292297           1   \n",
       "1   Mitch_McConnell       -0.637363              -0.286548           1   \n",
       "2  Dianne_Feinstein       -0.592920              -0.154750           0   \n",
       "3      Patty_Murray       -0.814815              -0.812802           0   \n",
       "4         Ron_Wyden       -0.803030              -0.777854           0   \n",
       "\n",
       "   genderDummy  jobDummy  age_zscore  monthlyEdit_zscore  pageviews  editors  \\\n",
       "0            1         1    2.270586            0.576590      41643      939   \n",
       "1            1         1    1.560672            2.928292      49461     1937   \n",
       "2            0         1    2.270586            0.937662      65884     1942   \n",
       "3            0         1    0.929637           -0.103632      19482      716   \n",
       "4            1         1    1.008516           -0.140145       9819      655   \n",
       "\n",
       "   ... letHuman_zscore  letHuBot_zscore  editorCount_zscore  \\\n",
       "0  ...       -0.306705        -0.257957            0.954943   \n",
       "1  ...        0.128567         0.091552            2.418913   \n",
       "2  ...        0.698165         0.798954            2.044665   \n",
       "3  ...       -0.174975        -0.106084            0.096374   \n",
       "4  ...       -0.172582        -0.148138            0.140403   \n",
       "\n",
       "   editorCountHu_zscore  letterCount_zscore  letNumCount_zscore  \\\n",
       "0              0.953339            0.253704            0.260843   \n",
       "1              2.401592            1.651702            1.648654   \n",
       "2              2.033782            1.620953            1.620428   \n",
       "3              0.091283           -0.021156           -0.022174   \n",
       "4              0.125765           -0.084176           -0.084844   \n",
       "\n",
       "   wordNumCount_zscore  wordCount_zscore  editCount_zscore  editCountHu_zscore  \n",
       "0             0.252277          0.242173          0.288408            0.278914  \n",
       "1             1.595855          1.602110          1.166569            0.997998  \n",
       "2             1.595622          1.599487          0.672494            0.615109  \n",
       "3            -0.018398         -0.016794         -0.022353           -0.021794  \n",
       "4            -0.089801         -0.089286         -0.069491           -0.074091  \n",
       "\n",
       "[5 rows x 39 columns]"
      ]
     },
     "execution_count": 9,
     "metadata": {},
     "output_type": "execute_result"
    }
   ],
   "source": [
    "dfRegre2.head()"
   ]
  },
  {
   "cell_type": "code",
   "execution_count": 10,
   "id": "b49e7369",
   "metadata": {
    "ExecuteTime": {
     "end_time": "2023-09-29T19:15:48.819464Z",
     "start_time": "2023-09-29T19:15:48.807804Z"
    }
   },
   "outputs": [
    {
     "data": {
      "text/plain": [
       "Index(['newNames', 'biasWithoutSum', 'biasWithoutSum_zscore', 'partyDummy',\n",
       "       'genderDummy', 'jobDummy', 'age_zscore', 'monthlyEdit_zscore',\n",
       "       'pageviews', 'editors', 'assessValue', 'characters', 'words',\n",
       "       'unique_references', 'links_out_count', 'links_in_count',\n",
       "       'assessValueDummy', 'outLink_zscore', 'inLink_zscore',\n",
       "       'unique_references_zscore', 'words_zscore', 'characters_zscore',\n",
       "       'editors_zscore', 'pageviews_zscore', 'gini_index', 'gini_zscore',\n",
       "       'namesTalkPage', 'wordHuman_zscore', 'wordHuBot_zscore',\n",
       "       'letHuman_zscore', 'letHuBot_zscore', 'editorCount_zscore',\n",
       "       'editorCountHu_zscore', 'letterCount_zscore', 'letNumCount_zscore',\n",
       "       'wordNumCount_zscore', 'wordCount_zscore', 'editCount_zscore',\n",
       "       'editCountHu_zscore'],\n",
       "      dtype='object')"
      ]
     },
     "execution_count": 10,
     "metadata": {},
     "output_type": "execute_result"
    }
   ],
   "source": [
    "dfRegre2.columns"
   ]
  },
  {
   "cell_type": "code",
   "execution_count": 11,
   "id": "1cd7454a",
   "metadata": {
    "ExecuteTime": {
     "end_time": "2023-09-29T19:15:50.225037Z",
     "start_time": "2023-09-29T19:15:50.216581Z"
    }
   },
   "outputs": [],
   "source": [
    "# the range of work diversity is [0,1]\n",
    "# as the value grows, the inequality of workload distribution increases\n",
    "\n",
    "# the range of work diversity is [-1, 0]\n",
    "# as the value grows, the diversity of workload increases. (the inequality of workload distribution decreases)\n",
    "\n",
    "# change the direction of work diversity \n",
    "giniList = [i * -1 for i in list(dfRegre2['gini_index'])]"
   ]
  },
  {
   "cell_type": "code",
   "execution_count": 12,
   "id": "04f88b43",
   "metadata": {
    "ExecuteTime": {
     "end_time": "2023-09-29T19:15:51.458601Z",
     "start_time": "2023-09-29T19:15:51.446211Z"
    }
   },
   "outputs": [],
   "source": [
    "# the differences with gini zscore due to the number of obervations \n",
    "# while calculating gini zscore, there were 875 units. But there are 872 in dfRegre\n",
    "dfRegre2['gini_zscore_reverse'] = stats.zscore(giniList)"
   ]
  },
  {
   "cell_type": "code",
   "execution_count": 13,
   "id": "3991ae10",
   "metadata": {
    "ExecuteTime": {
     "end_time": "2023-09-29T19:15:52.716230Z",
     "start_time": "2023-09-29T19:15:52.706139Z"
    }
   },
   "outputs": [],
   "source": [
    "# specify the formula   DV ~ IV     the interaction term is not significant  main effects yes!\n",
    "reg = \"biasWithoutSum ~ monthlyEdit_zscore + wordHuman_zscore + gini_zscore_reverse + editors_zscore + C(assessValueDummy) + age_zscore  + unique_references_zscore + characters_zscore + pageviews_zscore + C(jobDummy) + C(partyDummy) + C(genderDummy)\""
   ]
  },
  {
   "cell_type": "code",
   "execution_count": 14,
   "id": "9cac7407",
   "metadata": {
    "ExecuteTime": {
     "end_time": "2023-09-29T19:15:54.353211Z",
     "start_time": "2023-09-29T19:15:54.294003Z"
    }
   },
   "outputs": [
    {
     "name": "stdout",
     "output_type": "stream",
     "text": [
      "Intel MKL WARNING: Support of Intel(R) Streaming SIMD Extensions 4.2 (Intel(R) SSE4.2) enabled only processors has been deprecated. Intel oneAPI Math Kernel Library 2025.0 will require Intel(R) Advanced Vector Extensions (Intel(R) AVX) instructions.\n"
     ]
    }
   ],
   "source": [
    "# fit the model\n",
    "regOutput = smf.ols(reg, dfRegre2).fit()"
   ]
  },
  {
   "cell_type": "code",
   "execution_count": null,
   "id": "e3bcd90c",
   "metadata": {},
   "outputs": [],
   "source": [
    "# workload diversity :  gini_zscore_reverse\n",
    "# communication intensity: wordHuman_zscore\n",
    "# editors_zscore:  crowd size"
   ]
  },
  {
   "cell_type": "code",
   "execution_count": 15,
   "id": "8be4cbcf",
   "metadata": {
    "ExecuteTime": {
     "end_time": "2023-09-29T19:15:58.584646Z",
     "start_time": "2023-09-29T19:15:58.554708Z"
    },
    "scrolled": true
   },
   "outputs": [
    {
     "name": "stdout",
     "output_type": "stream",
     "text": [
      "                            OLS Regression Results                            \n",
      "==============================================================================\n",
      "Dep. Variable:         biasWithoutSum   R-squared:                       0.100\n",
      "Model:                            OLS   Adj. R-squared:                  0.088\n",
      "Method:                 Least Squares   F-statistic:                     7.989\n",
      "Date:                Fri, 29 Sep 2023   Prob (F-statistic):           2.63e-14\n",
      "Time:                        12:15:58   Log-Likelihood:                -243.32\n",
      "No. Observations:                 872   AIC:                             512.6\n",
      "Df Residuals:                     859   BIC:                             574.7\n",
      "Df Model:                          12                                         \n",
      "Covariance Type:            nonrobust                                         \n",
      "============================================================================================\n",
      "                               coef    std err          t      P>|t|      [0.025      0.975]\n",
      "--------------------------------------------------------------------------------------------\n",
      "Intercept                   -0.6041      0.026    -23.685      0.000      -0.654      -0.554\n",
      "C(assessValueDummy)[T.1]     0.0041      0.032      0.128      0.898      -0.059       0.068\n",
      "C(jobDummy)[T.1]             0.0793      0.035      2.234      0.026       0.010       0.149\n",
      "C(partyDummy)[T.1]           0.1181      0.023      5.048      0.000       0.072       0.164\n",
      "C(genderDummy)[T.1]         -0.0190      0.027     -0.693      0.489      -0.073       0.035\n",
      "monthlyEdit_zscore          -0.0402      0.016     -2.500      0.013      -0.072      -0.009\n",
      "wordHuman_zscore            -0.0269      0.011     -2.418      0.016      -0.049      -0.005\n",
      "gini_zscore_reverse         -0.0420      0.014     -3.044      0.002      -0.069      -0.015\n",
      "editors_zscore              -0.0241      0.021     -1.147      0.252      -0.065       0.017\n",
      "age_zscore                  -0.0487      0.013     -3.647      0.000      -0.075      -0.022\n",
      "unique_references_zscore     0.0266      0.037      0.721      0.471      -0.046       0.099\n",
      "characters_zscore           -0.0423      0.033     -1.279      0.201      -0.107       0.023\n",
      "pageviews_zscore             0.0159      0.014      1.098      0.273      -0.013       0.044\n",
      "==============================================================================\n",
      "Omnibus:                      193.056   Durbin-Watson:                   1.923\n",
      "Prob(Omnibus):                  0.000   Jarque-Bera (JB):              416.293\n",
      "Skew:                           1.220   Prob(JB):                     4.01e-91\n",
      "Kurtosis:                       5.345   Cond. No.                         8.55\n",
      "==============================================================================\n",
      "\n",
      "Notes:\n",
      "[1] Standard Errors assume that the covariance matrix of the errors is correctly specified.\n"
     ]
    }
   ],
   "source": [
    "print(regOutput.summary())"
   ]
  },
  {
   "cell_type": "code",
   "execution_count": null,
   "id": "2c7b0d37",
   "metadata": {},
   "outputs": [],
   "source": []
  },
  {
   "cell_type": "markdown",
   "id": "7271b503",
   "metadata": {},
   "source": [
    "## plot coefficients"
   ]
  },
  {
   "cell_type": "code",
   "execution_count": 2,
   "id": "ba93cdbd",
   "metadata": {
    "ExecuteTime": {
     "end_time": "2023-10-02T17:01:40.651873Z",
     "start_time": "2023-10-02T17:01:40.611116Z"
    }
   },
   "outputs": [],
   "source": [
    "dfRegre2 = pd.read_csv('.../regressionTableUpdated3.csv')"
   ]
  },
  {
   "cell_type": "code",
   "execution_count": 3,
   "id": "cbbfb616",
   "metadata": {
    "ExecuteTime": {
     "end_time": "2023-10-02T17:01:42.089987Z",
     "start_time": "2023-10-02T17:01:42.078978Z"
    }
   },
   "outputs": [],
   "source": [
    "# the range of gini index is [0,1]\n",
    "# as the value grows, the inequality of wealth increases\n",
    "\n",
    "# the range of work diversity is [0,1]\n",
    "# as the value grows, the inequality of workload distribution increases\n",
    "\n",
    "# the range of work diversity is [-1, 0]\n",
    "# as the value grows, the diversity of workload increases. (the inequality of workload distribution decreases)\n",
    "\n",
    "# change the direction of work diversity \n",
    "giniList = [i * -1 for i in list(dfRegre2['gini_index'])]"
   ]
  },
  {
   "cell_type": "code",
   "execution_count": 4,
   "id": "6abad535",
   "metadata": {
    "ExecuteTime": {
     "end_time": "2023-10-02T17:01:43.141634Z",
     "start_time": "2023-10-02T17:01:43.128324Z"
    }
   },
   "outputs": [],
   "source": [
    "# the differences with gini zscore due to the number of obervations \n",
    "# while calculating gini zscore, there were 875 units. But there are 872 in dfRegre\n",
    "dfRegre2['gini_zscore_reverse'] = stats.zscore(giniList)"
   ]
  },
  {
   "cell_type": "code",
   "execution_count": 5,
   "id": "39009b1c",
   "metadata": {
    "ExecuteTime": {
     "end_time": "2023-10-02T17:01:44.010844Z",
     "start_time": "2023-10-02T17:01:44.003231Z"
    }
   },
   "outputs": [],
   "source": [
    "# specify the formula   DV ~ IV     the interaction term is not significant  main effects yes!\n",
    "reg = \"biasWithoutSum ~ monthlyEdit_zscore + wordHuman_zscore + gini_zscore_reverse + editors_zscore + C(assessValueDummy) + age_zscore  + unique_references_zscore + characters_zscore + pageviews_zscore + C(jobDummy) + C(partyDummy) + C(genderDummy)\"\n",
    "# 'wordHuBot_zscore' wordHuman_zscore +  the effect of words/edits on bias\n",
    "# is significant with or without bots \n",
    "#  editorCountHu_zscore  editorCount_zscore not significant\n",
    "# letterCount_zscore letNumCount_zscore wordCount_zscore wordNumCount_zscore"
   ]
  },
  {
   "cell_type": "code",
   "execution_count": 6,
   "id": "383fa3e8",
   "metadata": {
    "ExecuteTime": {
     "end_time": "2023-10-02T17:01:45.078368Z",
     "start_time": "2023-10-02T17:01:45.024649Z"
    }
   },
   "outputs": [
    {
     "name": "stdout",
     "output_type": "stream",
     "text": [
      "Intel MKL WARNING: Support of Intel(R) Streaming SIMD Extensions 4.2 (Intel(R) SSE4.2) enabled only processors has been deprecated. Intel oneAPI Math Kernel Library 2025.0 will require Intel(R) Advanced Vector Extensions (Intel(R) AVX) instructions.\n"
     ]
    }
   ],
   "source": [
    "# fit the model\n",
    "regOutput = smf.ols(reg, dfRegre2).fit()"
   ]
  },
  {
   "cell_type": "code",
   "execution_count": 29,
   "id": "7b46a106",
   "metadata": {
    "ExecuteTime": {
     "end_time": "2023-10-02T00:37:04.950112Z",
     "start_time": "2023-10-02T00:37:04.944029Z"
    }
   },
   "outputs": [],
   "source": [
    "#dfRegre2.columns"
   ]
  },
  {
   "cell_type": "code",
   "execution_count": 7,
   "id": "fe19c73f",
   "metadata": {
    "ExecuteTime": {
     "end_time": "2023-10-02T17:01:47.184303Z",
     "start_time": "2023-10-02T17:01:47.151413Z"
    }
   },
   "outputs": [
    {
     "name": "stdout",
     "output_type": "stream",
     "text": [
      "                            OLS Regression Results                            \n",
      "==============================================================================\n",
      "Dep. Variable:         biasWithoutSum   R-squared:                       0.100\n",
      "Model:                            OLS   Adj. R-squared:                  0.088\n",
      "Method:                 Least Squares   F-statistic:                     7.989\n",
      "Date:                Mon, 02 Oct 2023   Prob (F-statistic):           2.63e-14\n",
      "Time:                        10:01:47   Log-Likelihood:                -243.32\n",
      "No. Observations:                 872   AIC:                             512.6\n",
      "Df Residuals:                     859   BIC:                             574.7\n",
      "Df Model:                          12                                         \n",
      "Covariance Type:            nonrobust                                         \n",
      "============================================================================================\n",
      "                               coef    std err          t      P>|t|      [0.025      0.975]\n",
      "--------------------------------------------------------------------------------------------\n",
      "Intercept                   -0.6041      0.026    -23.685      0.000      -0.654      -0.554\n",
      "C(assessValueDummy)[T.1]     0.0041      0.032      0.128      0.898      -0.059       0.068\n",
      "C(jobDummy)[T.1]             0.0793      0.035      2.234      0.026       0.010       0.149\n",
      "C(partyDummy)[T.1]           0.1181      0.023      5.048      0.000       0.072       0.164\n",
      "C(genderDummy)[T.1]         -0.0190      0.027     -0.693      0.489      -0.073       0.035\n",
      "monthlyEdit_zscore          -0.0402      0.016     -2.500      0.013      -0.072      -0.009\n",
      "wordHuman_zscore            -0.0269      0.011     -2.418      0.016      -0.049      -0.005\n",
      "gini_zscore_reverse         -0.0420      0.014     -3.044      0.002      -0.069      -0.015\n",
      "editors_zscore              -0.0241      0.021     -1.147      0.252      -0.065       0.017\n",
      "age_zscore                  -0.0487      0.013     -3.647      0.000      -0.075      -0.022\n",
      "unique_references_zscore     0.0266      0.037      0.721      0.471      -0.046       0.099\n",
      "characters_zscore           -0.0423      0.033     -1.279      0.201      -0.107       0.023\n",
      "pageviews_zscore             0.0159      0.014      1.098      0.273      -0.013       0.044\n",
      "==============================================================================\n",
      "Omnibus:                      193.056   Durbin-Watson:                   1.923\n",
      "Prob(Omnibus):                  0.000   Jarque-Bera (JB):              416.293\n",
      "Skew:                           1.220   Prob(JB):                     4.01e-91\n",
      "Kurtosis:                       5.345   Cond. No.                         8.55\n",
      "==============================================================================\n",
      "\n",
      "Notes:\n",
      "[1] Standard Errors assume that the covariance matrix of the errors is correctly specified.\n"
     ]
    }
   ],
   "source": [
    "print(regOutput.summary())"
   ]
  },
  {
   "cell_type": "code",
   "execution_count": 8,
   "id": "f5cdcc22",
   "metadata": {
    "ExecuteTime": {
     "end_time": "2023-10-02T17:01:49.240830Z",
     "start_time": "2023-10-02T17:01:49.223559Z"
    }
   },
   "outputs": [
    {
     "data": {
      "text/plain": [
       "Intercept                  -0.604147\n",
       "C(assessValueDummy)[T.1]    0.004138\n",
       "C(jobDummy)[T.1]            0.079288\n",
       "C(partyDummy)[T.1]          0.118123\n",
       "C(genderDummy)[T.1]        -0.019018\n",
       "monthlyEdit_zscore         -0.040246\n",
       "wordHuman_zscore           -0.026851\n",
       "gini_zscore_reverse        -0.042006\n",
       "editors_zscore             -0.024085\n",
       "age_zscore                 -0.048711\n",
       "unique_references_zscore    0.026580\n",
       "characters_zscore          -0.042343\n",
       "pageviews_zscore            0.015897\n",
       "dtype: float64"
      ]
     },
     "execution_count": 8,
     "metadata": {},
     "output_type": "execute_result"
    }
   ],
   "source": [
    "regOutput.params"
   ]
  },
  {
   "cell_type": "code",
   "execution_count": 9,
   "id": "a7ce4e63",
   "metadata": {
    "ExecuteTime": {
     "end_time": "2023-10-02T17:01:49.951802Z",
     "start_time": "2023-10-02T17:01:49.942128Z"
    }
   },
   "outputs": [],
   "source": [
    "err_series = regOutput.params - regOutput.conf_int()[0]"
   ]
  },
  {
   "cell_type": "code",
   "execution_count": 48,
   "id": "b8f8c901",
   "metadata": {
    "ExecuteTime": {
     "end_time": "2023-10-02T17:53:32.487521Z",
     "start_time": "2023-10-02T17:53:32.475181Z"
    }
   },
   "outputs": [],
   "source": [
    "coef_df = pd.DataFrame({'coef': regOutput.params.values[1:],\n",
    "                        'err': err_series.values[1:],\n",
    "                        'varname': err_series.index.values[1:]\n",
    "                       })"
   ]
  },
  {
   "cell_type": "code",
   "execution_count": 49,
   "id": "7b8e7411",
   "metadata": {
    "ExecuteTime": {
     "end_time": "2023-10-02T17:53:33.265350Z",
     "start_time": "2023-10-02T17:53:33.251142Z"
    }
   },
   "outputs": [
    {
     "data": {
      "text/html": [
       "<div>\n",
       "<style scoped>\n",
       "    .dataframe tbody tr th:only-of-type {\n",
       "        vertical-align: middle;\n",
       "    }\n",
       "\n",
       "    .dataframe tbody tr th {\n",
       "        vertical-align: top;\n",
       "    }\n",
       "\n",
       "    .dataframe thead th {\n",
       "        text-align: right;\n",
       "    }\n",
       "</style>\n",
       "<table border=\"1\" class=\"dataframe\">\n",
       "  <thead>\n",
       "    <tr style=\"text-align: right;\">\n",
       "      <th></th>\n",
       "      <th>coef</th>\n",
       "      <th>err</th>\n",
       "      <th>varname</th>\n",
       "    </tr>\n",
       "  </thead>\n",
       "  <tbody>\n",
       "    <tr>\n",
       "      <th>0</th>\n",
       "      <td>0.004138</td>\n",
       "      <td>0.063527</td>\n",
       "      <td>C(assessValueDummy)[T.1]</td>\n",
       "    </tr>\n",
       "    <tr>\n",
       "      <th>1</th>\n",
       "      <td>0.079288</td>\n",
       "      <td>0.069652</td>\n",
       "      <td>C(jobDummy)[T.1]</td>\n",
       "    </tr>\n",
       "    <tr>\n",
       "      <th>2</th>\n",
       "      <td>0.118123</td>\n",
       "      <td>0.045932</td>\n",
       "      <td>C(partyDummy)[T.1]</td>\n",
       "    </tr>\n",
       "    <tr>\n",
       "      <th>3</th>\n",
       "      <td>-0.019018</td>\n",
       "      <td>0.053877</td>\n",
       "      <td>C(genderDummy)[T.1]</td>\n",
       "    </tr>\n",
       "    <tr>\n",
       "      <th>4</th>\n",
       "      <td>-0.040246</td>\n",
       "      <td>0.031594</td>\n",
       "      <td>monthlyEdit_zscore</td>\n",
       "    </tr>\n",
       "    <tr>\n",
       "      <th>5</th>\n",
       "      <td>-0.026851</td>\n",
       "      <td>0.021793</td>\n",
       "      <td>wordHuman_zscore</td>\n",
       "    </tr>\n",
       "    <tr>\n",
       "      <th>6</th>\n",
       "      <td>-0.042006</td>\n",
       "      <td>0.027085</td>\n",
       "      <td>gini_zscore_reverse</td>\n",
       "    </tr>\n",
       "    <tr>\n",
       "      <th>7</th>\n",
       "      <td>-0.024085</td>\n",
       "      <td>0.041226</td>\n",
       "      <td>editors_zscore</td>\n",
       "    </tr>\n",
       "    <tr>\n",
       "      <th>8</th>\n",
       "      <td>-0.048711</td>\n",
       "      <td>0.026214</td>\n",
       "      <td>age_zscore</td>\n",
       "    </tr>\n",
       "    <tr>\n",
       "      <th>9</th>\n",
       "      <td>0.026580</td>\n",
       "      <td>0.072322</td>\n",
       "      <td>unique_references_zscore</td>\n",
       "    </tr>\n",
       "    <tr>\n",
       "      <th>10</th>\n",
       "      <td>-0.042343</td>\n",
       "      <td>0.064987</td>\n",
       "      <td>characters_zscore</td>\n",
       "    </tr>\n",
       "    <tr>\n",
       "      <th>11</th>\n",
       "      <td>0.015897</td>\n",
       "      <td>0.028428</td>\n",
       "      <td>pageviews_zscore</td>\n",
       "    </tr>\n",
       "  </tbody>\n",
       "</table>\n",
       "</div>"
      ],
      "text/plain": [
       "        coef       err                   varname\n",
       "0   0.004138  0.063527  C(assessValueDummy)[T.1]\n",
       "1   0.079288  0.069652          C(jobDummy)[T.1]\n",
       "2   0.118123  0.045932        C(partyDummy)[T.1]\n",
       "3  -0.019018  0.053877       C(genderDummy)[T.1]\n",
       "4  -0.040246  0.031594        monthlyEdit_zscore\n",
       "5  -0.026851  0.021793          wordHuman_zscore\n",
       "6  -0.042006  0.027085       gini_zscore_reverse\n",
       "7  -0.024085  0.041226            editors_zscore\n",
       "8  -0.048711  0.026214                age_zscore\n",
       "9   0.026580  0.072322  unique_references_zscore\n",
       "10 -0.042343  0.064987         characters_zscore\n",
       "11  0.015897  0.028428          pageviews_zscore"
      ]
     },
     "execution_count": 49,
     "metadata": {},
     "output_type": "execute_result"
    }
   ],
   "source": [
    "coef_df"
   ]
  },
  {
   "cell_type": "code",
   "execution_count": 57,
   "id": "bf76d4c5",
   "metadata": {
    "ExecuteTime": {
     "end_time": "2023-10-02T18:00:46.424790Z",
     "start_time": "2023-10-02T18:00:46.409853Z"
    }
   },
   "outputs": [
    {
     "data": {
      "text/plain": [
       "\"[1'Reference count', 2'Pageviews', 3'Page quality', 4'Character count', 5'Monthly Edits',\\n6'Gender', 7'Age', 8'Partisanship', 9'Job positions', 10'Crowd size',11'Communication intensity',\\n12'Workload diversity']\\n\""
      ]
     },
     "execution_count": 57,
     "metadata": {},
     "output_type": "execute_result"
    }
   ],
   "source": [
    "# the order of the variables on the y axis\n",
    "\"\"\"[1'Reference count', 2'Pageviews', 3'Page quality', 4'Character count', 5'Monthly Edits',\n",
    "6'Gender', 7'Age', 8'Partisanship', 9'Job positions', 10'Crowd size',11'Communication intensity',\n",
    "12'Workload diversity']\n",
    "\"\"\""
   ]
  },
  {
   "cell_type": "code",
   "execution_count": 50,
   "id": "66dd4543",
   "metadata": {
    "ExecuteTime": {
     "end_time": "2023-10-02T17:57:04.243118Z",
     "start_time": "2023-10-02T17:57:04.231978Z"
    }
   },
   "outputs": [],
   "source": [
    "order = [3, 9, 8, 6, 5, 11, 12, 10, 7, 1, 4, 2]"
   ]
  },
  {
   "cell_type": "code",
   "execution_count": 35,
   "id": "3269751a",
   "metadata": {
    "ExecuteTime": {
     "end_time": "2023-10-02T00:38:35.058015Z",
     "start_time": "2023-10-02T00:38:35.049148Z"
    }
   },
   "outputs": [],
   "source": [
    "#coef_df.drop('order', axis = 1, inplace = True)"
   ]
  },
  {
   "cell_type": "code",
   "execution_count": 51,
   "id": "9afa1851",
   "metadata": {
    "ExecuteTime": {
     "end_time": "2023-10-02T17:57:06.248739Z",
     "start_time": "2023-10-02T17:57:06.238492Z"
    }
   },
   "outputs": [],
   "source": [
    "coef_df['order'] = order"
   ]
  },
  {
   "cell_type": "code",
   "execution_count": 52,
   "id": "8d40b7c0",
   "metadata": {
    "ExecuteTime": {
     "end_time": "2023-10-02T17:57:08.944900Z",
     "start_time": "2023-10-02T17:57:08.937439Z"
    }
   },
   "outputs": [],
   "source": [
    "coef_df = coef_df.sort_values(by='order')"
   ]
  },
  {
   "cell_type": "code",
   "execution_count": 53,
   "id": "aa5427fd",
   "metadata": {
    "ExecuteTime": {
     "end_time": "2023-10-02T17:57:14.450301Z",
     "start_time": "2023-10-02T17:57:14.428443Z"
    }
   },
   "outputs": [
    {
     "data": {
      "text/html": [
       "<div>\n",
       "<style scoped>\n",
       "    .dataframe tbody tr th:only-of-type {\n",
       "        vertical-align: middle;\n",
       "    }\n",
       "\n",
       "    .dataframe tbody tr th {\n",
       "        vertical-align: top;\n",
       "    }\n",
       "\n",
       "    .dataframe thead th {\n",
       "        text-align: right;\n",
       "    }\n",
       "</style>\n",
       "<table border=\"1\" class=\"dataframe\">\n",
       "  <thead>\n",
       "    <tr style=\"text-align: right;\">\n",
       "      <th></th>\n",
       "      <th>coef</th>\n",
       "      <th>err</th>\n",
       "      <th>varname</th>\n",
       "      <th>order</th>\n",
       "    </tr>\n",
       "  </thead>\n",
       "  <tbody>\n",
       "    <tr>\n",
       "      <th>9</th>\n",
       "      <td>0.026580</td>\n",
       "      <td>0.072322</td>\n",
       "      <td>unique_references_zscore</td>\n",
       "      <td>1</td>\n",
       "    </tr>\n",
       "    <tr>\n",
       "      <th>11</th>\n",
       "      <td>0.015897</td>\n",
       "      <td>0.028428</td>\n",
       "      <td>pageviews_zscore</td>\n",
       "      <td>2</td>\n",
       "    </tr>\n",
       "    <tr>\n",
       "      <th>0</th>\n",
       "      <td>0.004138</td>\n",
       "      <td>0.063527</td>\n",
       "      <td>C(assessValueDummy)[T.1]</td>\n",
       "      <td>3</td>\n",
       "    </tr>\n",
       "    <tr>\n",
       "      <th>10</th>\n",
       "      <td>-0.042343</td>\n",
       "      <td>0.064987</td>\n",
       "      <td>characters_zscore</td>\n",
       "      <td>4</td>\n",
       "    </tr>\n",
       "    <tr>\n",
       "      <th>4</th>\n",
       "      <td>-0.040246</td>\n",
       "      <td>0.031594</td>\n",
       "      <td>monthlyEdit_zscore</td>\n",
       "      <td>5</td>\n",
       "    </tr>\n",
       "    <tr>\n",
       "      <th>3</th>\n",
       "      <td>-0.019018</td>\n",
       "      <td>0.053877</td>\n",
       "      <td>C(genderDummy)[T.1]</td>\n",
       "      <td>6</td>\n",
       "    </tr>\n",
       "    <tr>\n",
       "      <th>8</th>\n",
       "      <td>-0.048711</td>\n",
       "      <td>0.026214</td>\n",
       "      <td>age_zscore</td>\n",
       "      <td>7</td>\n",
       "    </tr>\n",
       "    <tr>\n",
       "      <th>2</th>\n",
       "      <td>0.118123</td>\n",
       "      <td>0.045932</td>\n",
       "      <td>C(partyDummy)[T.1]</td>\n",
       "      <td>8</td>\n",
       "    </tr>\n",
       "    <tr>\n",
       "      <th>1</th>\n",
       "      <td>0.079288</td>\n",
       "      <td>0.069652</td>\n",
       "      <td>C(jobDummy)[T.1]</td>\n",
       "      <td>9</td>\n",
       "    </tr>\n",
       "    <tr>\n",
       "      <th>7</th>\n",
       "      <td>-0.024085</td>\n",
       "      <td>0.041226</td>\n",
       "      <td>editors_zscore</td>\n",
       "      <td>10</td>\n",
       "    </tr>\n",
       "    <tr>\n",
       "      <th>5</th>\n",
       "      <td>-0.026851</td>\n",
       "      <td>0.021793</td>\n",
       "      <td>wordHuman_zscore</td>\n",
       "      <td>11</td>\n",
       "    </tr>\n",
       "    <tr>\n",
       "      <th>6</th>\n",
       "      <td>-0.042006</td>\n",
       "      <td>0.027085</td>\n",
       "      <td>gini_zscore_reverse</td>\n",
       "      <td>12</td>\n",
       "    </tr>\n",
       "  </tbody>\n",
       "</table>\n",
       "</div>"
      ],
      "text/plain": [
       "        coef       err                   varname  order\n",
       "9   0.026580  0.072322  unique_references_zscore      1\n",
       "11  0.015897  0.028428          pageviews_zscore      2\n",
       "0   0.004138  0.063527  C(assessValueDummy)[T.1]      3\n",
       "10 -0.042343  0.064987         characters_zscore      4\n",
       "4  -0.040246  0.031594        monthlyEdit_zscore      5\n",
       "3  -0.019018  0.053877       C(genderDummy)[T.1]      6\n",
       "8  -0.048711  0.026214                age_zscore      7\n",
       "2   0.118123  0.045932        C(partyDummy)[T.1]      8\n",
       "1   0.079288  0.069652          C(jobDummy)[T.1]      9\n",
       "7  -0.024085  0.041226            editors_zscore     10\n",
       "5  -0.026851  0.021793          wordHuman_zscore     11\n",
       "6  -0.042006  0.027085       gini_zscore_reverse     12"
      ]
     },
     "execution_count": 53,
     "metadata": {},
     "output_type": "execute_result"
    }
   ],
   "source": [
    "coef_df "
   ]
  },
  {
   "cell_type": "code",
   "execution_count": 60,
   "id": "f07dfc8e",
   "metadata": {
    "ExecuteTime": {
     "end_time": "2023-10-02T18:02:48.993187Z",
     "start_time": "2023-10-02T18:02:48.716291Z"
    },
    "scrolled": false
   },
   "outputs": [
    {
     "name": "stderr",
     "output_type": "stream",
     "text": [
      "/var/folders/w8/8v3lrr0d5nn4_nm9h6gr2c2w0000gn/T/ipykernel_1494/4204236210.py:19: FutureWarning: The pandas.np module is deprecated and will be removed from pandas in a future version. Import numpy directly instead.\n",
      "  y=pd.np.arange(coef_df.shape[0]), color='darkcyan')\n"
     ]
    },
    {
     "data": {
      "image/png": "[encoded data removed]",
      "text/plain": [
       "<Figure size 400x600 with 1 Axes>"
      ]
     },
     "metadata": {},
     "output_type": "display_data"
    }
   ],
   "source": [
    "#Define figure, axes, and plot\n",
    "\n",
    "fig, ax = plt.subplots(figsize=(4, 6))\n",
    "\n",
    "# Error bars for 95% confidence interval\n",
    "# Can increase capsize to add whiskers\n",
    "\n",
    "coef_df.plot(x='varname', y='coef', kind='barh',\n",
    "             ax=ax, color='none',\n",
    "             ecolor='darkcyan',\n",
    "             xerr='err', legend=False)\n",
    "\n",
    "ax.set_xlabel('Estimated Coefficients')\n",
    "ax.set_ylabel('')\n",
    "\n",
    "# Coefficients  s=120,\n",
    "plt.scatter(x=coef_df['coef'], \n",
    "           marker='o',  \n",
    "           y=pd.np.arange(coef_df.shape[0]), color='darkcyan')\n",
    "# reset x ticks\n",
    "plt.xticks(np.arange(-0.2, 0.3, 0.1))\n",
    "ax.spines['top'].set_visible(False)\n",
    "ax.spines['right'].set_visible(False)\n",
    "ax.spines['left'].set_visible(False)\n",
    "\n",
    "# Line to define zero on the y-axis\n",
    "ax.axvline(x=0, linestyle='-', color='k', linewidth=0.7)\n",
    "\n",
    "ylabels = ['Reference count', 'Pageviews', 'Page quality', 'Character count', 'Monthly edits',\n",
    "'Gender', 'Age', 'Partisanship',  'Job positions', 'Crowd size', 'Communication intensity',\n",
    "'Workload diversity']\n",
    "ax.yaxis.set_ticks_position('none')\n",
    "_ = ax.set_yticklabels(ylabels, \n",
    "                       rotation=0, fontsize=9.2)\n",
    "\n",
    "#plt.savefig('.../regressionCoefUpdated.pdf', bbox_inches = 'tight')"
   ]
  },
  {
   "cell_type": "code",
   "execution_count": null,
   "id": "188393d8",
   "metadata": {},
   "outputs": [],
   "source": []
  }
 ],
 "metadata": {
  "kernelspec": {
   "display_name": "Python 3 (ipykernel)",
   "language": "python",
   "name": "python3"
  },
  "language_info": {
   "codemirror_mode": {
    "name": "ipython",
    "version": 3
   },
   "file_extension": ".py",
   "mimetype": "text/x-python",
   "name": "python",
   "nbconvert_exporter": "python",
   "pygments_lexer": "ipython3",
   "version": "3.9.18"
  },
  "toc": {
   "base_numbering": 1,
   "nav_menu": {},
   "number_sections": true,
   "sideBar": true,
   "skip_h1_title": false,
   "title_cell": "Table of Contents",
   "title_sidebar": "Contents",
   "toc_cell": false,
   "toc_position": {
    "height": "calc(100% - 180px)",
    "left": "10px",
    "top": "150px",
    "width": "250.781px"
   },
   "toc_section_display": true,
   "toc_window_display": true
  }
 },
 "nbformat": 4,
 "nbformat_minor": 5
}
